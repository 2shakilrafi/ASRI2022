{
 "cells": [
  {
   "cell_type": "code",
   "execution_count": 81,
   "metadata": {},
   "outputs": [],
   "source": [
    "import pandas as pd\n",
    "import numpy as np\n",
    "import dask.dataframe as dd\n",
    "import glob\n",
    "\n",
    "# Get CSV files list from a folder\n",
    "path = \"/Users/shakilrafi/Project_Small_Business_Schubert/\"\n",
    "csv_files = glob.glob(path + \"/*.csv\")\n",
    "\n",
    "# Read each CSV file into DataFrame\n",
    "# This creates a list of dataframes\n",
    "df_list = (pd.read_csv(file, usecols=[\"InitialApprovalAmount\",\"BorrowerZip\"]) for file in csv_files)\n",
    "\n",
    "# Concatenate all DataFrames\n",
    "df   = pd.concat(df_list, ignore_index=True)\n",
    "\n"
   ]
  },
  {
   "cell_type": "code",
   "execution_count": 82,
   "metadata": {},
   "outputs": [
    {
     "name": "stdout",
     "output_type": "stream",
     "text": [
      "<class 'pandas.core.frame.DataFrame'>\n",
      "RangeIndex: 11468681 entries, 0 to 11468680\n",
      "Data columns (total 2 columns):\n",
      " #   Column                 Dtype  \n",
      "---  ------                 -----  \n",
      " 0   BorrowerZip            object \n",
      " 1   InitialApprovalAmount  float64\n",
      "dtypes: float64(1), object(1)\n",
      "memory usage: 175.0+ MB\n"
     ]
    }
   ],
   "source": [
    "df.info()"
   ]
  },
  {
   "cell_type": "code",
   "execution_count": 83,
   "metadata": {},
   "outputs": [
    {
     "name": "stdout",
     "output_type": "stream",
     "text": [
      "<class 'pandas.core.frame.DataFrame'>\n",
      "RangeIndex: 11468681 entries, 0 to 11468680\n",
      "Data columns (total 2 columns):\n",
      " #   Column                 Dtype  \n",
      "---  ------                 -----  \n",
      " 0   BorrowerZip            object \n",
      " 1   InitialApprovalAmount  float64\n",
      "dtypes: float64(1), object(1)\n",
      "memory usage: 807.9 MB\n"
     ]
    }
   ],
   "source": [
    "df.info(memory_usage=\"deep\")"
   ]
  },
  {
   "cell_type": "code",
   "execution_count": 84,
   "metadata": {},
   "outputs": [
    {
     "data": {
      "text/html": [
       "<div>\n",
       "<style scoped>\n",
       "    .dataframe tbody tr th:only-of-type {\n",
       "        vertical-align: middle;\n",
       "    }\n",
       "\n",
       "    .dataframe tbody tr th {\n",
       "        vertical-align: top;\n",
       "    }\n",
       "\n",
       "    .dataframe thead th {\n",
       "        text-align: right;\n",
       "    }\n",
       "</style>\n",
       "<table border=\"1\" class=\"dataframe\">\n",
       "  <thead>\n",
       "    <tr style=\"text-align: right;\">\n",
       "      <th></th>\n",
       "      <th>BorrowerZip</th>\n",
       "      <th>InitialApprovalAmount</th>\n",
       "    </tr>\n",
       "  </thead>\n",
       "  <tbody>\n",
       "    <tr>\n",
       "      <th>0</th>\n",
       "      <td>33707-1331</td>\n",
       "      <td>3900.0</td>\n",
       "    </tr>\n",
       "    <tr>\n",
       "      <th>1</th>\n",
       "      <td>33309</td>\n",
       "      <td>3900.0</td>\n",
       "    </tr>\n",
       "    <tr>\n",
       "      <th>2</th>\n",
       "      <td>34677</td>\n",
       "      <td>3900.0</td>\n",
       "    </tr>\n",
       "    <tr>\n",
       "      <th>3</th>\n",
       "      <td>33016-5814</td>\n",
       "      <td>3900.0</td>\n",
       "    </tr>\n",
       "    <tr>\n",
       "      <th>4</th>\n",
       "      <td>33907</td>\n",
       "      <td>3900.0</td>\n",
       "    </tr>\n",
       "  </tbody>\n",
       "</table>\n",
       "</div>"
      ],
      "text/plain": [
       "  BorrowerZip  InitialApprovalAmount\n",
       "0  33707-1331                 3900.0\n",
       "1       33309                 3900.0\n",
       "2       34677                 3900.0\n",
       "3  33016-5814                 3900.0\n",
       "4       33907                 3900.0"
      ]
     },
     "execution_count": 84,
     "metadata": {},
     "output_type": "execute_result"
    }
   ],
   "source": [
    "df.head()"
   ]
  },
  {
   "cell_type": "code",
   "execution_count": 85,
   "metadata": {},
   "outputs": [
    {
     "data": {
      "text/plain": [
       "['/Users/shakilrafi/Project_Small_Business_Schubert/public_up_to_150k_4_220403.csv',\n",
       " '/Users/shakilrafi/Project_Small_Business_Schubert/public_up_to_150k_9_220403.csv',\n",
       " '/Users/shakilrafi/Project_Small_Business_Schubert/public_up_to_150k_1_220403.csv',\n",
       " '/Users/shakilrafi/Project_Small_Business_Schubert/public_up_to_150k_6_220403.csv',\n",
       " '/Users/shakilrafi/Project_Small_Business_Schubert/public_up_to_150k_11_220403.csv',\n",
       " '/Users/shakilrafi/Project_Small_Business_Schubert/public_up_to_150k_3_220403.csv',\n",
       " '/Users/shakilrafi/Project_Small_Business_Schubert/public_up_to_150k_5_220403.csv',\n",
       " '/Users/shakilrafi/Project_Small_Business_Schubert/public_up_to_150k_12_220403.csv',\n",
       " '/Users/shakilrafi/Project_Small_Business_Schubert/public_up_to_150k_8_220403.csv',\n",
       " '/Users/shakilrafi/Project_Small_Business_Schubert/public_150k_plus_220403.csv',\n",
       " '/Users/shakilrafi/Project_Small_Business_Schubert/public_up_to_150k_2_220403.csv',\n",
       " '/Users/shakilrafi/Project_Small_Business_Schubert/public_up_to_150k_7_220403.csv',\n",
       " '/Users/shakilrafi/Project_Small_Business_Schubert/public_up_to_150k_10_220403.csv']"
      ]
     },
     "execution_count": 85,
     "metadata": {},
     "output_type": "execute_result"
    }
   ],
   "source": [
    "csv_files"
   ]
  },
  {
   "cell_type": "code",
   "execution_count": 86,
   "metadata": {},
   "outputs": [],
   "source": [
    "zip_codes = pd.read_csv(\"/Users/shakilrafi/Downloads/archive/kaggle_income.csv\",engine='python',encoding='latin1',dtype = {\"Zip_Code\":str})"
   ]
  },
  {
   "cell_type": "code",
   "execution_count": 87,
   "metadata": {},
   "outputs": [
    {
     "data": {
      "text/html": [
       "<div>\n",
       "<style scoped>\n",
       "    .dataframe tbody tr th:only-of-type {\n",
       "        vertical-align: middle;\n",
       "    }\n",
       "\n",
       "    .dataframe tbody tr th {\n",
       "        vertical-align: top;\n",
       "    }\n",
       "\n",
       "    .dataframe thead th {\n",
       "        text-align: right;\n",
       "    }\n",
       "</style>\n",
       "<table border=\"1\" class=\"dataframe\">\n",
       "  <thead>\n",
       "    <tr style=\"text-align: right;\">\n",
       "      <th></th>\n",
       "      <th>id</th>\n",
       "      <th>State_Code</th>\n",
       "      <th>State_Name</th>\n",
       "      <th>State_ab</th>\n",
       "      <th>County</th>\n",
       "      <th>City</th>\n",
       "      <th>Place</th>\n",
       "      <th>Type</th>\n",
       "      <th>Primary</th>\n",
       "      <th>Zip_Code</th>\n",
       "      <th>Area_Code</th>\n",
       "      <th>ALand</th>\n",
       "      <th>AWater</th>\n",
       "      <th>Lat</th>\n",
       "      <th>Lon</th>\n",
       "      <th>Mean</th>\n",
       "      <th>Median</th>\n",
       "      <th>Stdev</th>\n",
       "      <th>sum_w</th>\n",
       "    </tr>\n",
       "  </thead>\n",
       "  <tbody>\n",
       "    <tr>\n",
       "      <th>0</th>\n",
       "      <td>1011000</td>\n",
       "      <td>1</td>\n",
       "      <td>Alabama</td>\n",
       "      <td>AL</td>\n",
       "      <td>Mobile County</td>\n",
       "      <td>Chickasaw</td>\n",
       "      <td>Chickasaw city</td>\n",
       "      <td>City</td>\n",
       "      <td>place</td>\n",
       "      <td>36611</td>\n",
       "      <td>251</td>\n",
       "      <td>10894952</td>\n",
       "      <td>909156</td>\n",
       "      <td>30.771450</td>\n",
       "      <td>-88.079697</td>\n",
       "      <td>38773</td>\n",
       "      <td>30506</td>\n",
       "      <td>33101</td>\n",
       "      <td>1638.260513</td>\n",
       "    </tr>\n",
       "    <tr>\n",
       "      <th>1</th>\n",
       "      <td>1011010</td>\n",
       "      <td>1</td>\n",
       "      <td>Alabama</td>\n",
       "      <td>AL</td>\n",
       "      <td>Barbour County</td>\n",
       "      <td>Louisville</td>\n",
       "      <td>Clio city</td>\n",
       "      <td>City</td>\n",
       "      <td>place</td>\n",
       "      <td>36048</td>\n",
       "      <td>334</td>\n",
       "      <td>26070325</td>\n",
       "      <td>23254</td>\n",
       "      <td>31.708516</td>\n",
       "      <td>-85.611039</td>\n",
       "      <td>37725</td>\n",
       "      <td>19528</td>\n",
       "      <td>43789</td>\n",
       "      <td>258.017685</td>\n",
       "    </tr>\n",
       "    <tr>\n",
       "      <th>2</th>\n",
       "      <td>1011020</td>\n",
       "      <td>1</td>\n",
       "      <td>Alabama</td>\n",
       "      <td>AL</td>\n",
       "      <td>Shelby County</td>\n",
       "      <td>Columbiana</td>\n",
       "      <td>Columbiana city</td>\n",
       "      <td>City</td>\n",
       "      <td>place</td>\n",
       "      <td>35051</td>\n",
       "      <td>205</td>\n",
       "      <td>44835274</td>\n",
       "      <td>261034</td>\n",
       "      <td>33.191452</td>\n",
       "      <td>-86.615618</td>\n",
       "      <td>54606</td>\n",
       "      <td>31930</td>\n",
       "      <td>57348</td>\n",
       "      <td>926.031000</td>\n",
       "    </tr>\n",
       "    <tr>\n",
       "      <th>3</th>\n",
       "      <td>1011030</td>\n",
       "      <td>1</td>\n",
       "      <td>Alabama</td>\n",
       "      <td>AL</td>\n",
       "      <td>Mobile County</td>\n",
       "      <td>Satsuma</td>\n",
       "      <td>Creola city</td>\n",
       "      <td>City</td>\n",
       "      <td>place</td>\n",
       "      <td>36572</td>\n",
       "      <td>251</td>\n",
       "      <td>36878729</td>\n",
       "      <td>2374530</td>\n",
       "      <td>30.874343</td>\n",
       "      <td>-88.009442</td>\n",
       "      <td>63919</td>\n",
       "      <td>52814</td>\n",
       "      <td>47707</td>\n",
       "      <td>378.114619</td>\n",
       "    </tr>\n",
       "    <tr>\n",
       "      <th>4</th>\n",
       "      <td>1011040</td>\n",
       "      <td>1</td>\n",
       "      <td>Alabama</td>\n",
       "      <td>AL</td>\n",
       "      <td>Mobile County</td>\n",
       "      <td>Dauphin Island</td>\n",
       "      <td>Dauphin Island</td>\n",
       "      <td>Town</td>\n",
       "      <td>place</td>\n",
       "      <td>36528</td>\n",
       "      <td>251</td>\n",
       "      <td>16204185</td>\n",
       "      <td>413605152</td>\n",
       "      <td>30.250913</td>\n",
       "      <td>-88.171268</td>\n",
       "      <td>77948</td>\n",
       "      <td>67225</td>\n",
       "      <td>54270</td>\n",
       "      <td>282.320328</td>\n",
       "    </tr>\n",
       "  </tbody>\n",
       "</table>\n",
       "</div>"
      ],
      "text/plain": [
       "        id  State_Code State_Name State_ab          County            City  \\\n",
       "0  1011000           1    Alabama       AL   Mobile County       Chickasaw   \n",
       "1  1011010           1    Alabama       AL  Barbour County      Louisville   \n",
       "2  1011020           1    Alabama       AL   Shelby County      Columbiana   \n",
       "3  1011030           1    Alabama       AL   Mobile County         Satsuma   \n",
       "4  1011040           1    Alabama       AL   Mobile County  Dauphin Island   \n",
       "\n",
       "             Place  Type Primary Zip_Code Area_Code     ALand     AWater  \\\n",
       "0   Chickasaw city  City   place    36611       251  10894952     909156   \n",
       "1        Clio city  City   place    36048       334  26070325      23254   \n",
       "2  Columbiana city  City   place    35051       205  44835274     261034   \n",
       "3      Creola city  City   place    36572       251  36878729    2374530   \n",
       "4   Dauphin Island  Town   place    36528       251  16204185  413605152   \n",
       "\n",
       "         Lat        Lon   Mean  Median  Stdev        sum_w  \n",
       "0  30.771450 -88.079697  38773   30506  33101  1638.260513  \n",
       "1  31.708516 -85.611039  37725   19528  43789   258.017685  \n",
       "2  33.191452 -86.615618  54606   31930  57348   926.031000  \n",
       "3  30.874343 -88.009442  63919   52814  47707   378.114619  \n",
       "4  30.250913 -88.171268  77948   67225  54270   282.320328  "
      ]
     },
     "execution_count": 87,
     "metadata": {},
     "output_type": "execute_result"
    }
   ],
   "source": [
    "zip_codes.head()"
   ]
  },
  {
   "cell_type": "code",
   "execution_count": 88,
   "metadata": {},
   "outputs": [
    {
     "name": "stdout",
     "output_type": "stream",
     "text": [
      "<class 'pandas.core.frame.DataFrame'>\n",
      "RangeIndex: 32526 entries, 0 to 32525\n",
      "Data columns (total 19 columns):\n",
      " #   Column      Non-Null Count  Dtype  \n",
      "---  ------      --------------  -----  \n",
      " 0   id          32526 non-null  int64  \n",
      " 1   State_Code  32526 non-null  int64  \n",
      " 2   State_Name  32526 non-null  object \n",
      " 3   State_ab    32526 non-null  object \n",
      " 4   County      32526 non-null  object \n",
      " 5   City        32526 non-null  object \n",
      " 6   Place       32526 non-null  object \n",
      " 7   Type        32526 non-null  object \n",
      " 8   Primary     32526 non-null  object \n",
      " 9   Zip_Code    32526 non-null  object \n",
      " 10  Area_Code   32526 non-null  object \n",
      " 11  ALand       32526 non-null  int64  \n",
      " 12  AWater      32526 non-null  int64  \n",
      " 13  Lat         32526 non-null  float64\n",
      " 14  Lon         32526 non-null  float64\n",
      " 15  Mean        32526 non-null  int64  \n",
      " 16  Median      32526 non-null  int64  \n",
      " 17  Stdev       32526 non-null  int64  \n",
      " 18  sum_w       32526 non-null  float64\n",
      "dtypes: float64(3), int64(7), object(9)\n",
      "memory usage: 4.7+ MB\n"
     ]
    }
   ],
   "source": [
    "zip_codes.info()"
   ]
  },
  {
   "cell_type": "code",
   "execution_count": 89,
   "metadata": {},
   "outputs": [
    {
     "name": "stdout",
     "output_type": "stream",
     "text": [
      "<class 'pandas.core.frame.DataFrame'>\n",
      "RangeIndex: 11468681 entries, 0 to 11468680\n",
      "Data columns (total 2 columns):\n",
      " #   Column                 Dtype  \n",
      "---  ------                 -----  \n",
      " 0   BorrowerZip            object \n",
      " 1   InitialApprovalAmount  float64\n",
      "dtypes: float64(1), object(1)\n",
      "memory usage: 175.0+ MB\n"
     ]
    }
   ],
   "source": [
    "df.info()"
   ]
  },
  {
   "cell_type": "code",
   "execution_count": 90,
   "metadata": {},
   "outputs": [],
   "source": [
    "df[\"BorrowerZip\"] = df[\"BorrowerZip\"].str.split('-', 1).str[0]"
   ]
  },
  {
   "cell_type": "code",
   "execution_count": 91,
   "metadata": {},
   "outputs": [],
   "source": [
    "zip_codes = zip_codes.rename(columns={\"Zip_Code\":\"BorrowerZip\"})"
   ]
  },
  {
   "cell_type": "code",
   "execution_count": 92,
   "metadata": {},
   "outputs": [],
   "source": [
    "df = df.groupby(\"BorrowerZip\").mean(\"InitialApprovalAmount\").reset_index()"
   ]
  },
  {
   "cell_type": "code",
   "execution_count": 93,
   "metadata": {},
   "outputs": [],
   "source": [
    "df = pd.merge(df, zip_codes)"
   ]
  },
  {
   "cell_type": "code",
   "execution_count": 94,
   "metadata": {},
   "outputs": [
    {
     "data": {
      "text/html": [
       "<div>\n",
       "<style scoped>\n",
       "    .dataframe tbody tr th:only-of-type {\n",
       "        vertical-align: middle;\n",
       "    }\n",
       "\n",
       "    .dataframe tbody tr th {\n",
       "        vertical-align: top;\n",
       "    }\n",
       "\n",
       "    .dataframe thead th {\n",
       "        text-align: right;\n",
       "    }\n",
       "</style>\n",
       "<table border=\"1\" class=\"dataframe\">\n",
       "  <thead>\n",
       "    <tr style=\"text-align: right;\">\n",
       "      <th></th>\n",
       "      <th>BorrowerZip</th>\n",
       "      <th>InitialApprovalAmount</th>\n",
       "      <th>id</th>\n",
       "      <th>State_Code</th>\n",
       "      <th>State_Name</th>\n",
       "      <th>State_ab</th>\n",
       "      <th>County</th>\n",
       "      <th>City</th>\n",
       "      <th>Place</th>\n",
       "      <th>Type</th>\n",
       "      <th>Primary</th>\n",
       "      <th>Area_Code</th>\n",
       "      <th>ALand</th>\n",
       "      <th>AWater</th>\n",
       "      <th>Lat</th>\n",
       "      <th>Lon</th>\n",
       "      <th>Mean</th>\n",
       "      <th>Median</th>\n",
       "      <th>Stdev</th>\n",
       "      <th>sum_w</th>\n",
       "    </tr>\n",
       "  </thead>\n",
       "  <tbody>\n",
       "    <tr>\n",
       "      <th>0</th>\n",
       "      <td>00601</td>\n",
       "      <td>14404.872430</td>\n",
       "      <td>72026</td>\n",
       "      <td>72</td>\n",
       "      <td>Puerto Rico</td>\n",
       "      <td>PR</td>\n",
       "      <td>Adjuntas Municipio</td>\n",
       "      <td>Adjuntas</td>\n",
       "      <td>Adjuntas</td>\n",
       "      <td>Track</td>\n",
       "      <td>Track</td>\n",
       "      <td>787</td>\n",
       "      <td>42529236</td>\n",
       "      <td>210360</td>\n",
       "      <td>18.155582</td>\n",
       "      <td>-66.701046</td>\n",
       "      <td>24000</td>\n",
       "      <td>15004</td>\n",
       "      <td>29483</td>\n",
       "      <td>1243.880991</td>\n",
       "    </tr>\n",
       "    <tr>\n",
       "      <th>1</th>\n",
       "      <td>00601</td>\n",
       "      <td>14404.872430</td>\n",
       "      <td>7202946</td>\n",
       "      <td>72</td>\n",
       "      <td>Puerto Rico</td>\n",
       "      <td>PR</td>\n",
       "      <td>Adjuntas Municipio</td>\n",
       "      <td>Adjuntas</td>\n",
       "      <td>Adjuntas</td>\n",
       "      <td>Track</td>\n",
       "      <td>Track</td>\n",
       "      <td>787</td>\n",
       "      <td>44833906</td>\n",
       "      <td>90659</td>\n",
       "      <td>18.204166</td>\n",
       "      <td>-66.737830</td>\n",
       "      <td>19807</td>\n",
       "      <td>9378</td>\n",
       "      <td>21654</td>\n",
       "      <td>524.345149</td>\n",
       "    </tr>\n",
       "    <tr>\n",
       "      <th>2</th>\n",
       "      <td>00601</td>\n",
       "      <td>14404.872430</td>\n",
       "      <td>7202956</td>\n",
       "      <td>72</td>\n",
       "      <td>Puerto Rico</td>\n",
       "      <td>PR</td>\n",
       "      <td>Adjuntas Municipio</td>\n",
       "      <td>Adjuntas</td>\n",
       "      <td>Adjuntas</td>\n",
       "      <td>Track</td>\n",
       "      <td>Track</td>\n",
       "      <td>787</td>\n",
       "      <td>42529236</td>\n",
       "      <td>210360</td>\n",
       "      <td>18.155582</td>\n",
       "      <td>-66.701046</td>\n",
       "      <td>23682</td>\n",
       "      <td>15051</td>\n",
       "      <td>30309</td>\n",
       "      <td>615.289902</td>\n",
       "    </tr>\n",
       "    <tr>\n",
       "      <th>3</th>\n",
       "      <td>00602</td>\n",
       "      <td>19397.552099</td>\n",
       "      <td>7201727</td>\n",
       "      <td>72</td>\n",
       "      <td>Puerto Rico</td>\n",
       "      <td>PR</td>\n",
       "      <td>Aguada Municipio</td>\n",
       "      <td>Aguada</td>\n",
       "      <td>Luyando</td>\n",
       "      <td>Community</td>\n",
       "      <td>place</td>\n",
       "      <td>787</td>\n",
       "      <td>4242241</td>\n",
       "      <td>0</td>\n",
       "      <td>18.357471</td>\n",
       "      <td>-67.155343</td>\n",
       "      <td>17939</td>\n",
       "      <td>12641</td>\n",
       "      <td>15438</td>\n",
       "      <td>721.622289</td>\n",
       "    </tr>\n",
       "    <tr>\n",
       "      <th>4</th>\n",
       "      <td>00602</td>\n",
       "      <td>19397.552099</td>\n",
       "      <td>720216</td>\n",
       "      <td>72</td>\n",
       "      <td>Puerto Rico</td>\n",
       "      <td>PR</td>\n",
       "      <td>Adjuntas Municipio</td>\n",
       "      <td>Aguada</td>\n",
       "      <td>Adjuntas</td>\n",
       "      <td>Track</td>\n",
       "      <td>Track</td>\n",
       "      <td>787</td>\n",
       "      <td>0</td>\n",
       "      <td>33597561</td>\n",
       "      <td>18.412041</td>\n",
       "      <td>-67.213413</td>\n",
       "      <td>0</td>\n",
       "      <td>0</td>\n",
       "      <td>0</td>\n",
       "      <td>0.000000</td>\n",
       "    </tr>\n",
       "    <tr>\n",
       "      <th>...</th>\n",
       "      <td>...</td>\n",
       "      <td>...</td>\n",
       "      <td>...</td>\n",
       "      <td>...</td>\n",
       "      <td>...</td>\n",
       "      <td>...</td>\n",
       "      <td>...</td>\n",
       "      <td>...</td>\n",
       "      <td>...</td>\n",
       "      <td>...</td>\n",
       "      <td>...</td>\n",
       "      <td>...</td>\n",
       "      <td>...</td>\n",
       "      <td>...</td>\n",
       "      <td>...</td>\n",
       "      <td>...</td>\n",
       "      <td>...</td>\n",
       "      <td>...</td>\n",
       "      <td>...</td>\n",
       "      <td>...</td>\n",
       "    </tr>\n",
       "    <tr>\n",
       "      <th>32408</th>\n",
       "      <td>99901</td>\n",
       "      <td>76587.420484</td>\n",
       "      <td>201540</td>\n",
       "      <td>2</td>\n",
       "      <td>Alaska</td>\n",
       "      <td>AK</td>\n",
       "      <td>Ketchikan Gateway Borough</td>\n",
       "      <td>Ketchikan</td>\n",
       "      <td>Loring</td>\n",
       "      <td>CDP</td>\n",
       "      <td>place</td>\n",
       "      <td>907</td>\n",
       "      <td>1434002</td>\n",
       "      <td>200593</td>\n",
       "      <td>55.606676</td>\n",
       "      <td>-131.639976</td>\n",
       "      <td>0</td>\n",
       "      <td>0</td>\n",
       "      <td>0</td>\n",
       "      <td>0.000000</td>\n",
       "    </tr>\n",
       "    <tr>\n",
       "      <th>32409</th>\n",
       "      <td>99901</td>\n",
       "      <td>76587.420484</td>\n",
       "      <td>202107</td>\n",
       "      <td>2</td>\n",
       "      <td>Alaska</td>\n",
       "      <td>AK</td>\n",
       "      <td>Aleutians East Borough</td>\n",
       "      <td>Ketchikan</td>\n",
       "      <td>Akutan city</td>\n",
       "      <td>Track</td>\n",
       "      <td>Track</td>\n",
       "      <td>907</td>\n",
       "      <td>12523988591</td>\n",
       "      <td>4646176559</td>\n",
       "      <td>55.449938</td>\n",
       "      <td>-131.106685</td>\n",
       "      <td>97685</td>\n",
       "      <td>86630</td>\n",
       "      <td>64617</td>\n",
       "      <td>546.003168</td>\n",
       "    </tr>\n",
       "    <tr>\n",
       "      <th>32410</th>\n",
       "      <td>99901</td>\n",
       "      <td>76587.420484</td>\n",
       "      <td>202547</td>\n",
       "      <td>2</td>\n",
       "      <td>Alaska</td>\n",
       "      <td>AK</td>\n",
       "      <td>Aleutians East Borough</td>\n",
       "      <td>Ketchikan</td>\n",
       "      <td>Akutan city</td>\n",
       "      <td>Track</td>\n",
       "      <td>Track</td>\n",
       "      <td>907</td>\n",
       "      <td>13478407</td>\n",
       "      <td>1172057</td>\n",
       "      <td>55.371516</td>\n",
       "      <td>-131.669594</td>\n",
       "      <td>75033</td>\n",
       "      <td>64332</td>\n",
       "      <td>53249</td>\n",
       "      <td>355.017831</td>\n",
       "    </tr>\n",
       "    <tr>\n",
       "      <th>32411</th>\n",
       "      <td>99926</td>\n",
       "      <td>20123.684932</td>\n",
       "      <td>202657</td>\n",
       "      <td>2</td>\n",
       "      <td>Alaska</td>\n",
       "      <td>AK</td>\n",
       "      <td>Aleutians East Borough</td>\n",
       "      <td>Metlakatla</td>\n",
       "      <td>Akutan city</td>\n",
       "      <td>Track</td>\n",
       "      <td>Track</td>\n",
       "      <td>907</td>\n",
       "      <td>343946421</td>\n",
       "      <td>213611590</td>\n",
       "      <td>55.138352</td>\n",
       "      <td>-131.470424</td>\n",
       "      <td>69964</td>\n",
       "      <td>48663</td>\n",
       "      <td>58581</td>\n",
       "      <td>173.826619</td>\n",
       "    </tr>\n",
       "    <tr>\n",
       "      <th>32412</th>\n",
       "      <td>99950</td>\n",
       "      <td>19120.398333</td>\n",
       "      <td>201620</td>\n",
       "      <td>2</td>\n",
       "      <td>Alaska</td>\n",
       "      <td>AK</td>\n",
       "      <td>Prince of Wales-Hyder Census Area</td>\n",
       "      <td>Port Protection</td>\n",
       "      <td>Port Protection</td>\n",
       "      <td>CDP</td>\n",
       "      <td>place</td>\n",
       "      <td>907</td>\n",
       "      <td>9645413</td>\n",
       "      <td>475410</td>\n",
       "      <td>56.331881</td>\n",
       "      <td>-133.606420</td>\n",
       "      <td>39794</td>\n",
       "      <td>26943</td>\n",
       "      <td>55547</td>\n",
       "      <td>38.263613</td>\n",
       "    </tr>\n",
       "  </tbody>\n",
       "</table>\n",
       "<p>32413 rows × 20 columns</p>\n",
       "</div>"
      ],
      "text/plain": [
       "      BorrowerZip  InitialApprovalAmount       id  State_Code   State_Name  \\\n",
       "0           00601           14404.872430    72026          72  Puerto Rico   \n",
       "1           00601           14404.872430  7202946          72  Puerto Rico   \n",
       "2           00601           14404.872430  7202956          72  Puerto Rico   \n",
       "3           00602           19397.552099  7201727          72  Puerto Rico   \n",
       "4           00602           19397.552099   720216          72  Puerto Rico   \n",
       "...           ...                    ...      ...         ...          ...   \n",
       "32408       99901           76587.420484   201540           2       Alaska   \n",
       "32409       99901           76587.420484   202107           2       Alaska   \n",
       "32410       99901           76587.420484   202547           2       Alaska   \n",
       "32411       99926           20123.684932   202657           2       Alaska   \n",
       "32412       99950           19120.398333   201620           2       Alaska   \n",
       "\n",
       "      State_ab                             County             City  \\\n",
       "0           PR                 Adjuntas Municipio         Adjuntas   \n",
       "1           PR                 Adjuntas Municipio         Adjuntas   \n",
       "2           PR                 Adjuntas Municipio         Adjuntas   \n",
       "3           PR                   Aguada Municipio           Aguada   \n",
       "4           PR                 Adjuntas Municipio           Aguada   \n",
       "...        ...                                ...              ...   \n",
       "32408       AK          Ketchikan Gateway Borough        Ketchikan   \n",
       "32409       AK             Aleutians East Borough        Ketchikan   \n",
       "32410       AK             Aleutians East Borough        Ketchikan   \n",
       "32411       AK             Aleutians East Borough       Metlakatla   \n",
       "32412       AK  Prince of Wales-Hyder Census Area  Port Protection   \n",
       "\n",
       "                 Place       Type Primary Area_Code        ALand      AWater  \\\n",
       "0             Adjuntas      Track   Track       787     42529236      210360   \n",
       "1             Adjuntas      Track   Track       787     44833906       90659   \n",
       "2             Adjuntas      Track   Track       787     42529236      210360   \n",
       "3              Luyando  Community   place       787      4242241           0   \n",
       "4             Adjuntas      Track   Track       787            0    33597561   \n",
       "...                ...        ...     ...       ...          ...         ...   \n",
       "32408           Loring        CDP   place       907      1434002      200593   \n",
       "32409      Akutan city      Track   Track       907  12523988591  4646176559   \n",
       "32410      Akutan city      Track   Track       907     13478407     1172057   \n",
       "32411      Akutan city      Track   Track       907    343946421   213611590   \n",
       "32412  Port Protection        CDP   place       907      9645413      475410   \n",
       "\n",
       "             Lat         Lon   Mean  Median  Stdev        sum_w  \n",
       "0      18.155582  -66.701046  24000   15004  29483  1243.880991  \n",
       "1      18.204166  -66.737830  19807    9378  21654   524.345149  \n",
       "2      18.155582  -66.701046  23682   15051  30309   615.289902  \n",
       "3      18.357471  -67.155343  17939   12641  15438   721.622289  \n",
       "4      18.412041  -67.213413      0       0      0     0.000000  \n",
       "...          ...         ...    ...     ...    ...          ...  \n",
       "32408  55.606676 -131.639976      0       0      0     0.000000  \n",
       "32409  55.449938 -131.106685  97685   86630  64617   546.003168  \n",
       "32410  55.371516 -131.669594  75033   64332  53249   355.017831  \n",
       "32411  55.138352 -131.470424  69964   48663  58581   173.826619  \n",
       "32412  56.331881 -133.606420  39794   26943  55547    38.263613  \n",
       "\n",
       "[32413 rows x 20 columns]"
      ]
     },
     "execution_count": 94,
     "metadata": {},
     "output_type": "execute_result"
    }
   ],
   "source": [
    "df"
   ]
  },
  {
   "cell_type": "code",
   "execution_count": 95,
   "metadata": {},
   "outputs": [
    {
     "data": {
      "text/plain": [
       "count    3.241300e+04\n",
       "mean     6.732874e+04\n",
       "std      4.863695e+04\n",
       "min      1.176000e+03\n",
       "25%      4.045930e+04\n",
       "50%      5.981756e+04\n",
       "75%      8.486279e+04\n",
       "max      1.795477e+06\n",
       "Name: InitialApprovalAmount, dtype: float64"
      ]
     },
     "execution_count": 95,
     "metadata": {},
     "output_type": "execute_result"
    }
   ],
   "source": [
    "df[\"InitialApprovalAmount\"].describe()"
   ]
  },
  {
   "cell_type": "code",
   "execution_count": 96,
   "metadata": {},
   "outputs": [
    {
     "data": {
      "text/plain": [
       "0.0695756567589576"
      ]
     },
     "execution_count": 96,
     "metadata": {},
     "output_type": "execute_result"
    }
   ],
   "source": [
    "df[\"Median\"].corr(df[\"InitialApprovalAmount\"])"
   ]
  },
  {
   "cell_type": "code",
   "execution_count": 97,
   "metadata": {},
   "outputs": [],
   "source": [
    "population = pd.read_csv(\"/Users/shakilrafi/Downloads/archive-2/population_by_zip_2010.csv\", dtype = {\"zipcode\":str})"
   ]
  },
  {
   "cell_type": "code",
   "execution_count": 98,
   "metadata": {},
   "outputs": [
    {
     "data": {
      "text/html": [
       "<div>\n",
       "<style scoped>\n",
       "    .dataframe tbody tr th:only-of-type {\n",
       "        vertical-align: middle;\n",
       "    }\n",
       "\n",
       "    .dataframe tbody tr th {\n",
       "        vertical-align: top;\n",
       "    }\n",
       "\n",
       "    .dataframe thead th {\n",
       "        text-align: right;\n",
       "    }\n",
       "</style>\n",
       "<table border=\"1\" class=\"dataframe\">\n",
       "  <thead>\n",
       "    <tr style=\"text-align: right;\">\n",
       "      <th></th>\n",
       "      <th>population</th>\n",
       "      <th>minimum_age</th>\n",
       "      <th>maximum_age</th>\n",
       "      <th>gender</th>\n",
       "      <th>zipcode</th>\n",
       "      <th>geo_id</th>\n",
       "    </tr>\n",
       "  </thead>\n",
       "  <tbody>\n",
       "    <tr>\n",
       "      <th>0</th>\n",
       "      <td>50</td>\n",
       "      <td>30.0</td>\n",
       "      <td>34.0</td>\n",
       "      <td>female</td>\n",
       "      <td>61747</td>\n",
       "      <td>8600000US61747</td>\n",
       "    </tr>\n",
       "    <tr>\n",
       "      <th>1</th>\n",
       "      <td>5</td>\n",
       "      <td>85.0</td>\n",
       "      <td>NaN</td>\n",
       "      <td>male</td>\n",
       "      <td>64120</td>\n",
       "      <td>8600000US64120</td>\n",
       "    </tr>\n",
       "    <tr>\n",
       "      <th>2</th>\n",
       "      <td>1389</td>\n",
       "      <td>30.0</td>\n",
       "      <td>34.0</td>\n",
       "      <td>male</td>\n",
       "      <td>95117</td>\n",
       "      <td>8600000US95117</td>\n",
       "    </tr>\n",
       "    <tr>\n",
       "      <th>3</th>\n",
       "      <td>231</td>\n",
       "      <td>60.0</td>\n",
       "      <td>61.0</td>\n",
       "      <td>female</td>\n",
       "      <td>74074</td>\n",
       "      <td>8600000US74074</td>\n",
       "    </tr>\n",
       "    <tr>\n",
       "      <th>4</th>\n",
       "      <td>56</td>\n",
       "      <td>0.0</td>\n",
       "      <td>4.0</td>\n",
       "      <td>female</td>\n",
       "      <td>58042</td>\n",
       "      <td>8600000US58042</td>\n",
       "    </tr>\n",
       "    <tr>\n",
       "      <th>...</th>\n",
       "      <td>...</td>\n",
       "      <td>...</td>\n",
       "      <td>...</td>\n",
       "      <td>...</td>\n",
       "      <td>...</td>\n",
       "      <td>...</td>\n",
       "    </tr>\n",
       "    <tr>\n",
       "      <th>1622826</th>\n",
       "      <td>66</td>\n",
       "      <td>15.0</td>\n",
       "      <td>17.0</td>\n",
       "      <td>female</td>\n",
       "      <td>28640</td>\n",
       "      <td>8600000US28640</td>\n",
       "    </tr>\n",
       "    <tr>\n",
       "      <th>1622827</th>\n",
       "      <td>791</td>\n",
       "      <td>25.0</td>\n",
       "      <td>29.0</td>\n",
       "      <td>male</td>\n",
       "      <td>98604</td>\n",
       "      <td>8600000US98604</td>\n",
       "    </tr>\n",
       "    <tr>\n",
       "      <th>1622828</th>\n",
       "      <td>55</td>\n",
       "      <td>55.0</td>\n",
       "      <td>59.0</td>\n",
       "      <td>female</td>\n",
       "      <td>29545</td>\n",
       "      <td>8600000US29545</td>\n",
       "    </tr>\n",
       "    <tr>\n",
       "      <th>1622829</th>\n",
       "      <td>10</td>\n",
       "      <td>25.0</td>\n",
       "      <td>29.0</td>\n",
       "      <td>female</td>\n",
       "      <td>45319</td>\n",
       "      <td>8600000US45319</td>\n",
       "    </tr>\n",
       "    <tr>\n",
       "      <th>1622830</th>\n",
       "      <td>65</td>\n",
       "      <td>35.0</td>\n",
       "      <td>39.0</td>\n",
       "      <td>female</td>\n",
       "      <td>71032</td>\n",
       "      <td>8600000US71032</td>\n",
       "    </tr>\n",
       "  </tbody>\n",
       "</table>\n",
       "<p>1622831 rows × 6 columns</p>\n",
       "</div>"
      ],
      "text/plain": [
       "         population  minimum_age  maximum_age  gender zipcode          geo_id\n",
       "0                50         30.0         34.0  female   61747  8600000US61747\n",
       "1                 5         85.0          NaN    male   64120  8600000US64120\n",
       "2              1389         30.0         34.0    male   95117  8600000US95117\n",
       "3               231         60.0         61.0  female   74074  8600000US74074\n",
       "4                56          0.0          4.0  female   58042  8600000US58042\n",
       "...             ...          ...          ...     ...     ...             ...\n",
       "1622826          66         15.0         17.0  female   28640  8600000US28640\n",
       "1622827         791         25.0         29.0    male   98604  8600000US98604\n",
       "1622828          55         55.0         59.0  female   29545  8600000US29545\n",
       "1622829          10         25.0         29.0  female   45319  8600000US45319\n",
       "1622830          65         35.0         39.0  female   71032  8600000US71032\n",
       "\n",
       "[1622831 rows x 6 columns]"
      ]
     },
     "execution_count": 98,
     "metadata": {},
     "output_type": "execute_result"
    }
   ],
   "source": [
    "population"
   ]
  },
  {
   "cell_type": "code",
   "execution_count": 99,
   "metadata": {},
   "outputs": [],
   "source": [
    "population_by_zip = population.groupby(\"zipcode\").sum(\"population\").reset_index()"
   ]
  },
  {
   "cell_type": "code",
   "execution_count": 100,
   "metadata": {},
   "outputs": [],
   "source": [
    "population_by_zip = population_by_zip.rename(columns={\"zipcode\":\"BorrowerZip\"})"
   ]
  },
  {
   "cell_type": "code",
   "execution_count": 101,
   "metadata": {},
   "outputs": [],
   "source": [
    "df = pd.merge(df,population_by_zip)"
   ]
  },
  {
   "cell_type": "code",
   "execution_count": 102,
   "metadata": {},
   "outputs": [
    {
     "data": {
      "text/plain": [
       "0.035149277410501306"
      ]
     },
     "execution_count": 102,
     "metadata": {},
     "output_type": "execute_result"
    }
   ],
   "source": [
    "df[\"population\"].corr(df[\"InitialApprovalAmount\"])"
   ]
  },
  {
   "cell_type": "code",
   "execution_count": 103,
   "metadata": {},
   "outputs": [
    {
     "data": {
      "text/html": [
       "<div>\n",
       "<style scoped>\n",
       "    .dataframe tbody tr th:only-of-type {\n",
       "        vertical-align: middle;\n",
       "    }\n",
       "\n",
       "    .dataframe tbody tr th {\n",
       "        vertical-align: top;\n",
       "    }\n",
       "\n",
       "    .dataframe thead th {\n",
       "        text-align: right;\n",
       "    }\n",
       "</style>\n",
       "<table border=\"1\" class=\"dataframe\">\n",
       "  <thead>\n",
       "    <tr style=\"text-align: right;\">\n",
       "      <th></th>\n",
       "      <th>BorrowerZip</th>\n",
       "      <th>InitialApprovalAmount</th>\n",
       "      <th>id</th>\n",
       "      <th>State_Code</th>\n",
       "      <th>State_Name</th>\n",
       "      <th>State_ab</th>\n",
       "      <th>County</th>\n",
       "      <th>City</th>\n",
       "      <th>Place</th>\n",
       "      <th>Type</th>\n",
       "      <th>...</th>\n",
       "      <th>AWater</th>\n",
       "      <th>Lat</th>\n",
       "      <th>Lon</th>\n",
       "      <th>Mean</th>\n",
       "      <th>Median</th>\n",
       "      <th>Stdev</th>\n",
       "      <th>sum_w</th>\n",
       "      <th>population</th>\n",
       "      <th>minimum_age</th>\n",
       "      <th>maximum_age</th>\n",
       "    </tr>\n",
       "  </thead>\n",
       "  <tbody>\n",
       "    <tr>\n",
       "      <th>0</th>\n",
       "      <td>00602</td>\n",
       "      <td>19397.552099</td>\n",
       "      <td>7201727</td>\n",
       "      <td>72</td>\n",
       "      <td>Puerto Rico</td>\n",
       "      <td>PR</td>\n",
       "      <td>Aguada Municipio</td>\n",
       "      <td>Aguada</td>\n",
       "      <td>Luyando</td>\n",
       "      <td>Community</td>\n",
       "      <td>...</td>\n",
       "      <td>0</td>\n",
       "      <td>18.357471</td>\n",
       "      <td>-67.155343</td>\n",
       "      <td>17939</td>\n",
       "      <td>12641</td>\n",
       "      <td>15438</td>\n",
       "      <td>721.622289</td>\n",
       "      <td>124560</td>\n",
       "      <td>1910.0</td>\n",
       "      <td>1866.0</td>\n",
       "    </tr>\n",
       "    <tr>\n",
       "      <th>1</th>\n",
       "      <td>00602</td>\n",
       "      <td>19397.552099</td>\n",
       "      <td>720216</td>\n",
       "      <td>72</td>\n",
       "      <td>Puerto Rico</td>\n",
       "      <td>PR</td>\n",
       "      <td>Adjuntas Municipio</td>\n",
       "      <td>Aguada</td>\n",
       "      <td>Adjuntas</td>\n",
       "      <td>Track</td>\n",
       "      <td>...</td>\n",
       "      <td>33597561</td>\n",
       "      <td>18.412041</td>\n",
       "      <td>-67.213413</td>\n",
       "      <td>0</td>\n",
       "      <td>0</td>\n",
       "      <td>0</td>\n",
       "      <td>0.000000</td>\n",
       "      <td>124560</td>\n",
       "      <td>1910.0</td>\n",
       "      <td>1866.0</td>\n",
       "    </tr>\n",
       "    <tr>\n",
       "      <th>2</th>\n",
       "      <td>00602</td>\n",
       "      <td>19397.552099</td>\n",
       "      <td>7202966</td>\n",
       "      <td>72</td>\n",
       "      <td>Puerto Rico</td>\n",
       "      <td>PR</td>\n",
       "      <td>Adjuntas Municipio</td>\n",
       "      <td>Aguada</td>\n",
       "      <td>Adjuntas</td>\n",
       "      <td>Track</td>\n",
       "      <td>...</td>\n",
       "      <td>795887</td>\n",
       "      <td>18.385424</td>\n",
       "      <td>-67.203310</td>\n",
       "      <td>15520</td>\n",
       "      <td>9923</td>\n",
       "      <td>15541</td>\n",
       "      <td>238.813450</td>\n",
       "      <td>124560</td>\n",
       "      <td>1910.0</td>\n",
       "      <td>1866.0</td>\n",
       "    </tr>\n",
       "    <tr>\n",
       "      <th>3</th>\n",
       "      <td>00602</td>\n",
       "      <td>19397.552099</td>\n",
       "      <td>7202976</td>\n",
       "      <td>72</td>\n",
       "      <td>Puerto Rico</td>\n",
       "      <td>PR</td>\n",
       "      <td>Adjuntas Municipio</td>\n",
       "      <td>Aguada</td>\n",
       "      <td>Adjuntas</td>\n",
       "      <td>Track</td>\n",
       "      <td>...</td>\n",
       "      <td>0</td>\n",
       "      <td>18.356565</td>\n",
       "      <td>-67.180686</td>\n",
       "      <td>41933</td>\n",
       "      <td>34054</td>\n",
       "      <td>31539</td>\n",
       "      <td>313.551070</td>\n",
       "      <td>124560</td>\n",
       "      <td>1910.0</td>\n",
       "      <td>1866.0</td>\n",
       "    </tr>\n",
       "    <tr>\n",
       "      <th>4</th>\n",
       "      <td>00602</td>\n",
       "      <td>19397.552099</td>\n",
       "      <td>7202986</td>\n",
       "      <td>72</td>\n",
       "      <td>Puerto Rico</td>\n",
       "      <td>PR</td>\n",
       "      <td>Adjuntas Municipio</td>\n",
       "      <td>Aguada</td>\n",
       "      <td>Adjuntas</td>\n",
       "      <td>Track</td>\n",
       "      <td>...</td>\n",
       "      <td>33597561</td>\n",
       "      <td>18.412041</td>\n",
       "      <td>-67.213413</td>\n",
       "      <td>0</td>\n",
       "      <td>0</td>\n",
       "      <td>0</td>\n",
       "      <td>0.000000</td>\n",
       "      <td>124560</td>\n",
       "      <td>1910.0</td>\n",
       "      <td>1866.0</td>\n",
       "    </tr>\n",
       "  </tbody>\n",
       "</table>\n",
       "<p>5 rows × 23 columns</p>\n",
       "</div>"
      ],
      "text/plain": [
       "  BorrowerZip  InitialApprovalAmount       id  State_Code   State_Name  \\\n",
       "0       00602           19397.552099  7201727          72  Puerto Rico   \n",
       "1       00602           19397.552099   720216          72  Puerto Rico   \n",
       "2       00602           19397.552099  7202966          72  Puerto Rico   \n",
       "3       00602           19397.552099  7202976          72  Puerto Rico   \n",
       "4       00602           19397.552099  7202986          72  Puerto Rico   \n",
       "\n",
       "  State_ab              County    City     Place       Type  ...    AWater  \\\n",
       "0       PR    Aguada Municipio  Aguada   Luyando  Community  ...         0   \n",
       "1       PR  Adjuntas Municipio  Aguada  Adjuntas      Track  ...  33597561   \n",
       "2       PR  Adjuntas Municipio  Aguada  Adjuntas      Track  ...    795887   \n",
       "3       PR  Adjuntas Municipio  Aguada  Adjuntas      Track  ...         0   \n",
       "4       PR  Adjuntas Municipio  Aguada  Adjuntas      Track  ...  33597561   \n",
       "\n",
       "         Lat        Lon   Mean  Median  Stdev       sum_w  population  \\\n",
       "0  18.357471 -67.155343  17939   12641  15438  721.622289      124560   \n",
       "1  18.412041 -67.213413      0       0      0    0.000000      124560   \n",
       "2  18.385424 -67.203310  15520    9923  15541  238.813450      124560   \n",
       "3  18.356565 -67.180686  41933   34054  31539  313.551070      124560   \n",
       "4  18.412041 -67.213413      0       0      0    0.000000      124560   \n",
       "\n",
       "   minimum_age  maximum_age  \n",
       "0       1910.0       1866.0  \n",
       "1       1910.0       1866.0  \n",
       "2       1910.0       1866.0  \n",
       "3       1910.0       1866.0  \n",
       "4       1910.0       1866.0  \n",
       "\n",
       "[5 rows x 23 columns]"
      ]
     },
     "execution_count": 103,
     "metadata": {},
     "output_type": "execute_result"
    }
   ],
   "source": [
    "df.head()"
   ]
  },
  {
   "cell_type": "code",
   "execution_count": 104,
   "metadata": {},
   "outputs": [
    {
     "name": "stdout",
     "output_type": "stream",
     "text": [
      "<class 'pandas.core.frame.DataFrame'>\n",
      "Int64Index: 31956 entries, 0 to 31955\n",
      "Data columns (total 23 columns):\n",
      " #   Column                 Non-Null Count  Dtype  \n",
      "---  ------                 --------------  -----  \n",
      " 0   BorrowerZip            31956 non-null  object \n",
      " 1   InitialApprovalAmount  31956 non-null  float64\n",
      " 2   id                     31956 non-null  int64  \n",
      " 3   State_Code             31956 non-null  int64  \n",
      " 4   State_Name             31956 non-null  object \n",
      " 5   State_ab               31956 non-null  object \n",
      " 6   County                 31956 non-null  object \n",
      " 7   City                   31956 non-null  object \n",
      " 8   Place                  31956 non-null  object \n",
      " 9   Type                   31956 non-null  object \n",
      " 10  Primary                31956 non-null  object \n",
      " 11  Area_Code              31956 non-null  object \n",
      " 12  ALand                  31956 non-null  int64  \n",
      " 13  AWater                 31956 non-null  int64  \n",
      " 14  Lat                    31956 non-null  float64\n",
      " 15  Lon                    31956 non-null  float64\n",
      " 16  Mean                   31956 non-null  int64  \n",
      " 17  Median                 31956 non-null  int64  \n",
      " 18  Stdev                  31956 non-null  int64  \n",
      " 19  sum_w                  31956 non-null  float64\n",
      " 20  population             31956 non-null  int64  \n",
      " 21  minimum_age            31956 non-null  float64\n",
      " 22  maximum_age            31956 non-null  float64\n",
      "dtypes: float64(6), int64(8), object(9)\n",
      "memory usage: 5.9+ MB\n"
     ]
    }
   ],
   "source": [
    "df.info()"
   ]
  },
  {
   "cell_type": "code",
   "execution_count": 105,
   "metadata": {},
   "outputs": [
    {
     "data": {
      "text/plain": [
       "Index(['BorrowerZip', 'InitialApprovalAmount', 'id', 'State_Code',\n",
       "       'State_Name', 'State_ab', 'County', 'City', 'Place', 'Type', 'Primary',\n",
       "       'Area_Code', 'ALand', 'AWater', 'Lat', 'Lon', 'Mean', 'Median', 'Stdev',\n",
       "       'sum_w', 'population', 'minimum_age', 'maximum_age'],\n",
       "      dtype='object')"
      ]
     },
     "execution_count": 105,
     "metadata": {},
     "output_type": "execute_result"
    }
   ],
   "source": [
    "df.columns"
   ]
  },
  {
   "cell_type": "code",
   "execution_count": null,
   "metadata": {},
   "outputs": [],
   "source": []
  },
  {
   "cell_type": "code",
   "execution_count": 106,
   "metadata": {},
   "outputs": [
    {
     "name": "stdout",
     "output_type": "stream",
     "text": [
      "<class 'pandas.core.frame.DataFrame'>\n",
      "Int64Index: 31956 entries, 0 to 31955\n",
      "Data columns (total 23 columns):\n",
      " #   Column                 Non-Null Count  Dtype  \n",
      "---  ------                 --------------  -----  \n",
      " 0   BorrowerZip            31956 non-null  object \n",
      " 1   InitialApprovalAmount  31956 non-null  float64\n",
      " 2   id                     31956 non-null  int64  \n",
      " 3   State_Code             31956 non-null  int64  \n",
      " 4   State_Name             31956 non-null  object \n",
      " 5   State_ab               31956 non-null  object \n",
      " 6   County                 31956 non-null  object \n",
      " 7   City                   31956 non-null  object \n",
      " 8   Place                  31956 non-null  object \n",
      " 9   Type                   31956 non-null  object \n",
      " 10  Primary                31956 non-null  object \n",
      " 11  Area_Code              31956 non-null  object \n",
      " 12  ALand                  31956 non-null  int64  \n",
      " 13  AWater                 31956 non-null  int64  \n",
      " 14  Lat                    31956 non-null  float64\n",
      " 15  Lon                    31956 non-null  float64\n",
      " 16  Mean                   31956 non-null  int64  \n",
      " 17  Median                 31956 non-null  int64  \n",
      " 18  Stdev                  31956 non-null  int64  \n",
      " 19  sum_w                  31956 non-null  float64\n",
      " 20  population             31956 non-null  int64  \n",
      " 21  minimum_age            31956 non-null  float64\n",
      " 22  maximum_age            31956 non-null  float64\n",
      "dtypes: float64(6), int64(8), object(9)\n",
      "memory usage: 5.9+ MB\n"
     ]
    }
   ],
   "source": [
    "df.info()"
   ]
  },
  {
   "cell_type": "code",
   "execution_count": 107,
   "metadata": {},
   "outputs": [],
   "source": [
    "df = df[df[\"Median\"] != 0]\n",
    "df = df[df[\"Median\"] != 300000]"
   ]
  },
  {
   "cell_type": "code",
   "execution_count": 108,
   "metadata": {},
   "outputs": [
    {
     "data": {
      "text/html": [
       "<div>\n",
       "<style scoped>\n",
       "    .dataframe tbody tr th:only-of-type {\n",
       "        vertical-align: middle;\n",
       "    }\n",
       "\n",
       "    .dataframe tbody tr th {\n",
       "        vertical-align: top;\n",
       "    }\n",
       "\n",
       "    .dataframe thead th {\n",
       "        text-align: right;\n",
       "    }\n",
       "</style>\n",
       "<table border=\"1\" class=\"dataframe\">\n",
       "  <thead>\n",
       "    <tr style=\"text-align: right;\">\n",
       "      <th></th>\n",
       "      <th>BorrowerZip</th>\n",
       "      <th>InitialApprovalAmount</th>\n",
       "      <th>id</th>\n",
       "      <th>State_Code</th>\n",
       "      <th>State_Name</th>\n",
       "      <th>State_ab</th>\n",
       "      <th>County</th>\n",
       "      <th>City</th>\n",
       "      <th>Place</th>\n",
       "      <th>Type</th>\n",
       "      <th>...</th>\n",
       "      <th>AWater</th>\n",
       "      <th>Lat</th>\n",
       "      <th>Lon</th>\n",
       "      <th>Mean</th>\n",
       "      <th>Median</th>\n",
       "      <th>Stdev</th>\n",
       "      <th>sum_w</th>\n",
       "      <th>population</th>\n",
       "      <th>minimum_age</th>\n",
       "      <th>maximum_age</th>\n",
       "    </tr>\n",
       "  </thead>\n",
       "  <tbody>\n",
       "    <tr>\n",
       "      <th>0</th>\n",
       "      <td>00602</td>\n",
       "      <td>19397.552099</td>\n",
       "      <td>7201727</td>\n",
       "      <td>72</td>\n",
       "      <td>Puerto Rico</td>\n",
       "      <td>PR</td>\n",
       "      <td>Aguada Municipio</td>\n",
       "      <td>Aguada</td>\n",
       "      <td>Luyando</td>\n",
       "      <td>Community</td>\n",
       "      <td>...</td>\n",
       "      <td>0</td>\n",
       "      <td>18.357471</td>\n",
       "      <td>-67.155343</td>\n",
       "      <td>17939</td>\n",
       "      <td>12641</td>\n",
       "      <td>15438</td>\n",
       "      <td>721.622289</td>\n",
       "      <td>124560</td>\n",
       "      <td>1910.0</td>\n",
       "      <td>1866.0</td>\n",
       "    </tr>\n",
       "    <tr>\n",
       "      <th>2</th>\n",
       "      <td>00602</td>\n",
       "      <td>19397.552099</td>\n",
       "      <td>7202966</td>\n",
       "      <td>72</td>\n",
       "      <td>Puerto Rico</td>\n",
       "      <td>PR</td>\n",
       "      <td>Adjuntas Municipio</td>\n",
       "      <td>Aguada</td>\n",
       "      <td>Adjuntas</td>\n",
       "      <td>Track</td>\n",
       "      <td>...</td>\n",
       "      <td>795887</td>\n",
       "      <td>18.385424</td>\n",
       "      <td>-67.203310</td>\n",
       "      <td>15520</td>\n",
       "      <td>9923</td>\n",
       "      <td>15541</td>\n",
       "      <td>238.813450</td>\n",
       "      <td>124560</td>\n",
       "      <td>1910.0</td>\n",
       "      <td>1866.0</td>\n",
       "    </tr>\n",
       "    <tr>\n",
       "      <th>3</th>\n",
       "      <td>00602</td>\n",
       "      <td>19397.552099</td>\n",
       "      <td>7202976</td>\n",
       "      <td>72</td>\n",
       "      <td>Puerto Rico</td>\n",
       "      <td>PR</td>\n",
       "      <td>Adjuntas Municipio</td>\n",
       "      <td>Aguada</td>\n",
       "      <td>Adjuntas</td>\n",
       "      <td>Track</td>\n",
       "      <td>...</td>\n",
       "      <td>0</td>\n",
       "      <td>18.356565</td>\n",
       "      <td>-67.180686</td>\n",
       "      <td>41933</td>\n",
       "      <td>34054</td>\n",
       "      <td>31539</td>\n",
       "      <td>313.551070</td>\n",
       "      <td>124560</td>\n",
       "      <td>1910.0</td>\n",
       "      <td>1866.0</td>\n",
       "    </tr>\n",
       "    <tr>\n",
       "      <th>5</th>\n",
       "      <td>00603</td>\n",
       "      <td>27849.886982</td>\n",
       "      <td>72021016</td>\n",
       "      <td>72</td>\n",
       "      <td>Puerto Rico</td>\n",
       "      <td>PR</td>\n",
       "      <td>Adjuntas Municipio</td>\n",
       "      <td>Aguadilla</td>\n",
       "      <td>Adjuntas</td>\n",
       "      <td>Track</td>\n",
       "      <td>...</td>\n",
       "      <td>48068</td>\n",
       "      <td>18.413356</td>\n",
       "      <td>-67.139934</td>\n",
       "      <td>19661</td>\n",
       "      <td>14558</td>\n",
       "      <td>17213</td>\n",
       "      <td>516.872210</td>\n",
       "      <td>164067</td>\n",
       "      <td>1910.0</td>\n",
       "      <td>1866.0</td>\n",
       "    </tr>\n",
       "    <tr>\n",
       "      <th>6</th>\n",
       "      <td>00603</td>\n",
       "      <td>27849.886982</td>\n",
       "      <td>72021026</td>\n",
       "      <td>72</td>\n",
       "      <td>Puerto Rico</td>\n",
       "      <td>PR</td>\n",
       "      <td>Adjuntas Municipio</td>\n",
       "      <td>Aguadilla</td>\n",
       "      <td>Adjuntas</td>\n",
       "      <td>Track</td>\n",
       "      <td>...</td>\n",
       "      <td>36801</td>\n",
       "      <td>18.459858</td>\n",
       "      <td>-67.080703</td>\n",
       "      <td>47145</td>\n",
       "      <td>19946</td>\n",
       "      <td>57025</td>\n",
       "      <td>346.683721</td>\n",
       "      <td>164067</td>\n",
       "      <td>1910.0</td>\n",
       "      <td>1866.0</td>\n",
       "    </tr>\n",
       "    <tr>\n",
       "      <th>...</th>\n",
       "      <td>...</td>\n",
       "      <td>...</td>\n",
       "      <td>...</td>\n",
       "      <td>...</td>\n",
       "      <td>...</td>\n",
       "      <td>...</td>\n",
       "      <td>...</td>\n",
       "      <td>...</td>\n",
       "      <td>...</td>\n",
       "      <td>...</td>\n",
       "      <td>...</td>\n",
       "      <td>...</td>\n",
       "      <td>...</td>\n",
       "      <td>...</td>\n",
       "      <td>...</td>\n",
       "      <td>...</td>\n",
       "      <td>...</td>\n",
       "      <td>...</td>\n",
       "      <td>...</td>\n",
       "      <td>...</td>\n",
       "      <td>...</td>\n",
       "    </tr>\n",
       "    <tr>\n",
       "      <th>31950</th>\n",
       "      <td>99835</td>\n",
       "      <td>50773.657458</td>\n",
       "      <td>202667</td>\n",
       "      <td>2</td>\n",
       "      <td>Alaska</td>\n",
       "      <td>AK</td>\n",
       "      <td>Aleutians East Borough</td>\n",
       "      <td>Sitka</td>\n",
       "      <td>Akutan city</td>\n",
       "      <td>Track</td>\n",
       "      <td>...</td>\n",
       "      <td>32661843</td>\n",
       "      <td>57.045145</td>\n",
       "      <td>-135.352251</td>\n",
       "      <td>80041</td>\n",
       "      <td>59519</td>\n",
       "      <td>65235</td>\n",
       "      <td>134.493046</td>\n",
       "      <td>26640</td>\n",
       "      <td>1910.0</td>\n",
       "      <td>1866.0</td>\n",
       "    </tr>\n",
       "    <tr>\n",
       "      <th>31951</th>\n",
       "      <td>99840</td>\n",
       "      <td>95393.482837</td>\n",
       "      <td>201650</td>\n",
       "      <td>2</td>\n",
       "      <td>Alaska</td>\n",
       "      <td>AK</td>\n",
       "      <td>Skagway Municipality</td>\n",
       "      <td>Skagway</td>\n",
       "      <td>Skagway</td>\n",
       "      <td>CDP</td>\n",
       "      <td>...</td>\n",
       "      <td>123838</td>\n",
       "      <td>59.464360</td>\n",
       "      <td>-135.275151</td>\n",
       "      <td>81352</td>\n",
       "      <td>69886</td>\n",
       "      <td>49197</td>\n",
       "      <td>174.689074</td>\n",
       "      <td>2904</td>\n",
       "      <td>1910.0</td>\n",
       "      <td>1866.0</td>\n",
       "    </tr>\n",
       "    <tr>\n",
       "      <th>31953</th>\n",
       "      <td>99901</td>\n",
       "      <td>76587.420484</td>\n",
       "      <td>202107</td>\n",
       "      <td>2</td>\n",
       "      <td>Alaska</td>\n",
       "      <td>AK</td>\n",
       "      <td>Aleutians East Borough</td>\n",
       "      <td>Ketchikan</td>\n",
       "      <td>Akutan city</td>\n",
       "      <td>Track</td>\n",
       "      <td>...</td>\n",
       "      <td>4646176559</td>\n",
       "      <td>55.449938</td>\n",
       "      <td>-131.106685</td>\n",
       "      <td>97685</td>\n",
       "      <td>86630</td>\n",
       "      <td>64617</td>\n",
       "      <td>546.003168</td>\n",
       "      <td>40524</td>\n",
       "      <td>1910.0</td>\n",
       "      <td>1866.0</td>\n",
       "    </tr>\n",
       "    <tr>\n",
       "      <th>31954</th>\n",
       "      <td>99901</td>\n",
       "      <td>76587.420484</td>\n",
       "      <td>202547</td>\n",
       "      <td>2</td>\n",
       "      <td>Alaska</td>\n",
       "      <td>AK</td>\n",
       "      <td>Aleutians East Borough</td>\n",
       "      <td>Ketchikan</td>\n",
       "      <td>Akutan city</td>\n",
       "      <td>Track</td>\n",
       "      <td>...</td>\n",
       "      <td>1172057</td>\n",
       "      <td>55.371516</td>\n",
       "      <td>-131.669594</td>\n",
       "      <td>75033</td>\n",
       "      <td>64332</td>\n",
       "      <td>53249</td>\n",
       "      <td>355.017831</td>\n",
       "      <td>40524</td>\n",
       "      <td>1910.0</td>\n",
       "      <td>1866.0</td>\n",
       "    </tr>\n",
       "    <tr>\n",
       "      <th>31955</th>\n",
       "      <td>99926</td>\n",
       "      <td>20123.684932</td>\n",
       "      <td>202657</td>\n",
       "      <td>2</td>\n",
       "      <td>Alaska</td>\n",
       "      <td>AK</td>\n",
       "      <td>Aleutians East Borough</td>\n",
       "      <td>Metlakatla</td>\n",
       "      <td>Akutan city</td>\n",
       "      <td>Track</td>\n",
       "      <td>...</td>\n",
       "      <td>213611590</td>\n",
       "      <td>55.138352</td>\n",
       "      <td>-131.470424</td>\n",
       "      <td>69964</td>\n",
       "      <td>48663</td>\n",
       "      <td>58581</td>\n",
       "      <td>173.826619</td>\n",
       "      <td>4380</td>\n",
       "      <td>1910.0</td>\n",
       "      <td>1866.0</td>\n",
       "    </tr>\n",
       "  </tbody>\n",
       "</table>\n",
       "<p>27426 rows × 23 columns</p>\n",
       "</div>"
      ],
      "text/plain": [
       "      BorrowerZip  InitialApprovalAmount        id  State_Code   State_Name  \\\n",
       "0           00602           19397.552099   7201727          72  Puerto Rico   \n",
       "2           00602           19397.552099   7202966          72  Puerto Rico   \n",
       "3           00602           19397.552099   7202976          72  Puerto Rico   \n",
       "5           00603           27849.886982  72021016          72  Puerto Rico   \n",
       "6           00603           27849.886982  72021026          72  Puerto Rico   \n",
       "...           ...                    ...       ...         ...          ...   \n",
       "31950       99835           50773.657458    202667           2       Alaska   \n",
       "31951       99840           95393.482837    201650           2       Alaska   \n",
       "31953       99901           76587.420484    202107           2       Alaska   \n",
       "31954       99901           76587.420484    202547           2       Alaska   \n",
       "31955       99926           20123.684932    202657           2       Alaska   \n",
       "\n",
       "      State_ab                  County        City        Place       Type  \\\n",
       "0           PR        Aguada Municipio      Aguada      Luyando  Community   \n",
       "2           PR      Adjuntas Municipio      Aguada     Adjuntas      Track   \n",
       "3           PR      Adjuntas Municipio      Aguada     Adjuntas      Track   \n",
       "5           PR      Adjuntas Municipio   Aguadilla     Adjuntas      Track   \n",
       "6           PR      Adjuntas Municipio   Aguadilla     Adjuntas      Track   \n",
       "...        ...                     ...         ...          ...        ...   \n",
       "31950       AK  Aleutians East Borough       Sitka  Akutan city      Track   \n",
       "31951       AK    Skagway Municipality     Skagway      Skagway        CDP   \n",
       "31953       AK  Aleutians East Borough   Ketchikan  Akutan city      Track   \n",
       "31954       AK  Aleutians East Borough   Ketchikan  Akutan city      Track   \n",
       "31955       AK  Aleutians East Borough  Metlakatla  Akutan city      Track   \n",
       "\n",
       "       ...      AWater        Lat         Lon   Mean  Median  Stdev  \\\n",
       "0      ...           0  18.357471  -67.155343  17939   12641  15438   \n",
       "2      ...      795887  18.385424  -67.203310  15520    9923  15541   \n",
       "3      ...           0  18.356565  -67.180686  41933   34054  31539   \n",
       "5      ...       48068  18.413356  -67.139934  19661   14558  17213   \n",
       "6      ...       36801  18.459858  -67.080703  47145   19946  57025   \n",
       "...    ...         ...        ...         ...    ...     ...    ...   \n",
       "31950  ...    32661843  57.045145 -135.352251  80041   59519  65235   \n",
       "31951  ...      123838  59.464360 -135.275151  81352   69886  49197   \n",
       "31953  ...  4646176559  55.449938 -131.106685  97685   86630  64617   \n",
       "31954  ...     1172057  55.371516 -131.669594  75033   64332  53249   \n",
       "31955  ...   213611590  55.138352 -131.470424  69964   48663  58581   \n",
       "\n",
       "            sum_w  population  minimum_age  maximum_age  \n",
       "0      721.622289      124560       1910.0       1866.0  \n",
       "2      238.813450      124560       1910.0       1866.0  \n",
       "3      313.551070      124560       1910.0       1866.0  \n",
       "5      516.872210      164067       1910.0       1866.0  \n",
       "6      346.683721      164067       1910.0       1866.0  \n",
       "...           ...         ...          ...          ...  \n",
       "31950  134.493046       26640       1910.0       1866.0  \n",
       "31951  174.689074        2904       1910.0       1866.0  \n",
       "31953  546.003168       40524       1910.0       1866.0  \n",
       "31954  355.017831       40524       1910.0       1866.0  \n",
       "31955  173.826619        4380       1910.0       1866.0  \n",
       "\n",
       "[27426 rows x 23 columns]"
      ]
     },
     "execution_count": 108,
     "metadata": {},
     "output_type": "execute_result"
    }
   ],
   "source": [
    "df"
   ]
  },
  {
   "cell_type": "code",
   "execution_count": 109,
   "metadata": {},
   "outputs": [],
   "source": [
    "# experiment = df[(np.abs(stats.zscore(df[\"Median\"])) < 2)]\n",
    "experiment = df"
   ]
  },
  {
   "cell_type": "code",
   "execution_count": 110,
   "metadata": {},
   "outputs": [
    {
     "data": {
      "text/plain": [
       "(27426, 23)"
      ]
     },
     "execution_count": 110,
     "metadata": {},
     "output_type": "execute_result"
    }
   ],
   "source": [
    "experiment.shape"
   ]
  },
  {
   "cell_type": "code",
   "execution_count": 111,
   "metadata": {},
   "outputs": [
    {
     "data": {
      "text/html": [
       "<div>\n",
       "<style scoped>\n",
       "    .dataframe tbody tr th:only-of-type {\n",
       "        vertical-align: middle;\n",
       "    }\n",
       "\n",
       "    .dataframe tbody tr th {\n",
       "        vertical-align: top;\n",
       "    }\n",
       "\n",
       "    .dataframe thead th {\n",
       "        text-align: right;\n",
       "    }\n",
       "</style>\n",
       "<table border=\"1\" class=\"dataframe\">\n",
       "  <thead>\n",
       "    <tr style=\"text-align: right;\">\n",
       "      <th></th>\n",
       "      <th>BorrowerZip</th>\n",
       "      <th>InitialApprovalAmount</th>\n",
       "      <th>id</th>\n",
       "      <th>State_Code</th>\n",
       "      <th>State_Name</th>\n",
       "      <th>State_ab</th>\n",
       "      <th>County</th>\n",
       "      <th>City</th>\n",
       "      <th>Place</th>\n",
       "      <th>Type</th>\n",
       "      <th>...</th>\n",
       "      <th>AWater</th>\n",
       "      <th>Lat</th>\n",
       "      <th>Lon</th>\n",
       "      <th>Mean</th>\n",
       "      <th>Median</th>\n",
       "      <th>Stdev</th>\n",
       "      <th>sum_w</th>\n",
       "      <th>population</th>\n",
       "      <th>minimum_age</th>\n",
       "      <th>maximum_age</th>\n",
       "    </tr>\n",
       "  </thead>\n",
       "  <tbody>\n",
       "    <tr>\n",
       "      <th>0</th>\n",
       "      <td>00602</td>\n",
       "      <td>19397.552099</td>\n",
       "      <td>7201727</td>\n",
       "      <td>72</td>\n",
       "      <td>Puerto Rico</td>\n",
       "      <td>PR</td>\n",
       "      <td>Aguada Municipio</td>\n",
       "      <td>Aguada</td>\n",
       "      <td>Luyando</td>\n",
       "      <td>Community</td>\n",
       "      <td>...</td>\n",
       "      <td>0</td>\n",
       "      <td>18.357471</td>\n",
       "      <td>-67.155343</td>\n",
       "      <td>17939</td>\n",
       "      <td>12641</td>\n",
       "      <td>15438</td>\n",
       "      <td>721.622289</td>\n",
       "      <td>124560</td>\n",
       "      <td>1910.0</td>\n",
       "      <td>1866.0</td>\n",
       "    </tr>\n",
       "    <tr>\n",
       "      <th>2</th>\n",
       "      <td>00602</td>\n",
       "      <td>19397.552099</td>\n",
       "      <td>7202966</td>\n",
       "      <td>72</td>\n",
       "      <td>Puerto Rico</td>\n",
       "      <td>PR</td>\n",
       "      <td>Adjuntas Municipio</td>\n",
       "      <td>Aguada</td>\n",
       "      <td>Adjuntas</td>\n",
       "      <td>Track</td>\n",
       "      <td>...</td>\n",
       "      <td>795887</td>\n",
       "      <td>18.385424</td>\n",
       "      <td>-67.203310</td>\n",
       "      <td>15520</td>\n",
       "      <td>9923</td>\n",
       "      <td>15541</td>\n",
       "      <td>238.813450</td>\n",
       "      <td>124560</td>\n",
       "      <td>1910.0</td>\n",
       "      <td>1866.0</td>\n",
       "    </tr>\n",
       "    <tr>\n",
       "      <th>3</th>\n",
       "      <td>00602</td>\n",
       "      <td>19397.552099</td>\n",
       "      <td>7202976</td>\n",
       "      <td>72</td>\n",
       "      <td>Puerto Rico</td>\n",
       "      <td>PR</td>\n",
       "      <td>Adjuntas Municipio</td>\n",
       "      <td>Aguada</td>\n",
       "      <td>Adjuntas</td>\n",
       "      <td>Track</td>\n",
       "      <td>...</td>\n",
       "      <td>0</td>\n",
       "      <td>18.356565</td>\n",
       "      <td>-67.180686</td>\n",
       "      <td>41933</td>\n",
       "      <td>34054</td>\n",
       "      <td>31539</td>\n",
       "      <td>313.551070</td>\n",
       "      <td>124560</td>\n",
       "      <td>1910.0</td>\n",
       "      <td>1866.0</td>\n",
       "    </tr>\n",
       "    <tr>\n",
       "      <th>5</th>\n",
       "      <td>00603</td>\n",
       "      <td>27849.886982</td>\n",
       "      <td>72021016</td>\n",
       "      <td>72</td>\n",
       "      <td>Puerto Rico</td>\n",
       "      <td>PR</td>\n",
       "      <td>Adjuntas Municipio</td>\n",
       "      <td>Aguadilla</td>\n",
       "      <td>Adjuntas</td>\n",
       "      <td>Track</td>\n",
       "      <td>...</td>\n",
       "      <td>48068</td>\n",
       "      <td>18.413356</td>\n",
       "      <td>-67.139934</td>\n",
       "      <td>19661</td>\n",
       "      <td>14558</td>\n",
       "      <td>17213</td>\n",
       "      <td>516.872210</td>\n",
       "      <td>164067</td>\n",
       "      <td>1910.0</td>\n",
       "      <td>1866.0</td>\n",
       "    </tr>\n",
       "    <tr>\n",
       "      <th>6</th>\n",
       "      <td>00603</td>\n",
       "      <td>27849.886982</td>\n",
       "      <td>72021026</td>\n",
       "      <td>72</td>\n",
       "      <td>Puerto Rico</td>\n",
       "      <td>PR</td>\n",
       "      <td>Adjuntas Municipio</td>\n",
       "      <td>Aguadilla</td>\n",
       "      <td>Adjuntas</td>\n",
       "      <td>Track</td>\n",
       "      <td>...</td>\n",
       "      <td>36801</td>\n",
       "      <td>18.459858</td>\n",
       "      <td>-67.080703</td>\n",
       "      <td>47145</td>\n",
       "      <td>19946</td>\n",
       "      <td>57025</td>\n",
       "      <td>346.683721</td>\n",
       "      <td>164067</td>\n",
       "      <td>1910.0</td>\n",
       "      <td>1866.0</td>\n",
       "    </tr>\n",
       "    <tr>\n",
       "      <th>...</th>\n",
       "      <td>...</td>\n",
       "      <td>...</td>\n",
       "      <td>...</td>\n",
       "      <td>...</td>\n",
       "      <td>...</td>\n",
       "      <td>...</td>\n",
       "      <td>...</td>\n",
       "      <td>...</td>\n",
       "      <td>...</td>\n",
       "      <td>...</td>\n",
       "      <td>...</td>\n",
       "      <td>...</td>\n",
       "      <td>...</td>\n",
       "      <td>...</td>\n",
       "      <td>...</td>\n",
       "      <td>...</td>\n",
       "      <td>...</td>\n",
       "      <td>...</td>\n",
       "      <td>...</td>\n",
       "      <td>...</td>\n",
       "      <td>...</td>\n",
       "    </tr>\n",
       "    <tr>\n",
       "      <th>31950</th>\n",
       "      <td>99835</td>\n",
       "      <td>50773.657458</td>\n",
       "      <td>202667</td>\n",
       "      <td>2</td>\n",
       "      <td>Alaska</td>\n",
       "      <td>AK</td>\n",
       "      <td>Aleutians East Borough</td>\n",
       "      <td>Sitka</td>\n",
       "      <td>Akutan city</td>\n",
       "      <td>Track</td>\n",
       "      <td>...</td>\n",
       "      <td>32661843</td>\n",
       "      <td>57.045145</td>\n",
       "      <td>-135.352251</td>\n",
       "      <td>80041</td>\n",
       "      <td>59519</td>\n",
       "      <td>65235</td>\n",
       "      <td>134.493046</td>\n",
       "      <td>26640</td>\n",
       "      <td>1910.0</td>\n",
       "      <td>1866.0</td>\n",
       "    </tr>\n",
       "    <tr>\n",
       "      <th>31951</th>\n",
       "      <td>99840</td>\n",
       "      <td>95393.482837</td>\n",
       "      <td>201650</td>\n",
       "      <td>2</td>\n",
       "      <td>Alaska</td>\n",
       "      <td>AK</td>\n",
       "      <td>Skagway Municipality</td>\n",
       "      <td>Skagway</td>\n",
       "      <td>Skagway</td>\n",
       "      <td>CDP</td>\n",
       "      <td>...</td>\n",
       "      <td>123838</td>\n",
       "      <td>59.464360</td>\n",
       "      <td>-135.275151</td>\n",
       "      <td>81352</td>\n",
       "      <td>69886</td>\n",
       "      <td>49197</td>\n",
       "      <td>174.689074</td>\n",
       "      <td>2904</td>\n",
       "      <td>1910.0</td>\n",
       "      <td>1866.0</td>\n",
       "    </tr>\n",
       "    <tr>\n",
       "      <th>31953</th>\n",
       "      <td>99901</td>\n",
       "      <td>76587.420484</td>\n",
       "      <td>202107</td>\n",
       "      <td>2</td>\n",
       "      <td>Alaska</td>\n",
       "      <td>AK</td>\n",
       "      <td>Aleutians East Borough</td>\n",
       "      <td>Ketchikan</td>\n",
       "      <td>Akutan city</td>\n",
       "      <td>Track</td>\n",
       "      <td>...</td>\n",
       "      <td>4646176559</td>\n",
       "      <td>55.449938</td>\n",
       "      <td>-131.106685</td>\n",
       "      <td>97685</td>\n",
       "      <td>86630</td>\n",
       "      <td>64617</td>\n",
       "      <td>546.003168</td>\n",
       "      <td>40524</td>\n",
       "      <td>1910.0</td>\n",
       "      <td>1866.0</td>\n",
       "    </tr>\n",
       "    <tr>\n",
       "      <th>31954</th>\n",
       "      <td>99901</td>\n",
       "      <td>76587.420484</td>\n",
       "      <td>202547</td>\n",
       "      <td>2</td>\n",
       "      <td>Alaska</td>\n",
       "      <td>AK</td>\n",
       "      <td>Aleutians East Borough</td>\n",
       "      <td>Ketchikan</td>\n",
       "      <td>Akutan city</td>\n",
       "      <td>Track</td>\n",
       "      <td>...</td>\n",
       "      <td>1172057</td>\n",
       "      <td>55.371516</td>\n",
       "      <td>-131.669594</td>\n",
       "      <td>75033</td>\n",
       "      <td>64332</td>\n",
       "      <td>53249</td>\n",
       "      <td>355.017831</td>\n",
       "      <td>40524</td>\n",
       "      <td>1910.0</td>\n",
       "      <td>1866.0</td>\n",
       "    </tr>\n",
       "    <tr>\n",
       "      <th>31955</th>\n",
       "      <td>99926</td>\n",
       "      <td>20123.684932</td>\n",
       "      <td>202657</td>\n",
       "      <td>2</td>\n",
       "      <td>Alaska</td>\n",
       "      <td>AK</td>\n",
       "      <td>Aleutians East Borough</td>\n",
       "      <td>Metlakatla</td>\n",
       "      <td>Akutan city</td>\n",
       "      <td>Track</td>\n",
       "      <td>...</td>\n",
       "      <td>213611590</td>\n",
       "      <td>55.138352</td>\n",
       "      <td>-131.470424</td>\n",
       "      <td>69964</td>\n",
       "      <td>48663</td>\n",
       "      <td>58581</td>\n",
       "      <td>173.826619</td>\n",
       "      <td>4380</td>\n",
       "      <td>1910.0</td>\n",
       "      <td>1866.0</td>\n",
       "    </tr>\n",
       "  </tbody>\n",
       "</table>\n",
       "<p>27426 rows × 23 columns</p>\n",
       "</div>"
      ],
      "text/plain": [
       "      BorrowerZip  InitialApprovalAmount        id  State_Code   State_Name  \\\n",
       "0           00602           19397.552099   7201727          72  Puerto Rico   \n",
       "2           00602           19397.552099   7202966          72  Puerto Rico   \n",
       "3           00602           19397.552099   7202976          72  Puerto Rico   \n",
       "5           00603           27849.886982  72021016          72  Puerto Rico   \n",
       "6           00603           27849.886982  72021026          72  Puerto Rico   \n",
       "...           ...                    ...       ...         ...          ...   \n",
       "31950       99835           50773.657458    202667           2       Alaska   \n",
       "31951       99840           95393.482837    201650           2       Alaska   \n",
       "31953       99901           76587.420484    202107           2       Alaska   \n",
       "31954       99901           76587.420484    202547           2       Alaska   \n",
       "31955       99926           20123.684932    202657           2       Alaska   \n",
       "\n",
       "      State_ab                  County        City        Place       Type  \\\n",
       "0           PR        Aguada Municipio      Aguada      Luyando  Community   \n",
       "2           PR      Adjuntas Municipio      Aguada     Adjuntas      Track   \n",
       "3           PR      Adjuntas Municipio      Aguada     Adjuntas      Track   \n",
       "5           PR      Adjuntas Municipio   Aguadilla     Adjuntas      Track   \n",
       "6           PR      Adjuntas Municipio   Aguadilla     Adjuntas      Track   \n",
       "...        ...                     ...         ...          ...        ...   \n",
       "31950       AK  Aleutians East Borough       Sitka  Akutan city      Track   \n",
       "31951       AK    Skagway Municipality     Skagway      Skagway        CDP   \n",
       "31953       AK  Aleutians East Borough   Ketchikan  Akutan city      Track   \n",
       "31954       AK  Aleutians East Borough   Ketchikan  Akutan city      Track   \n",
       "31955       AK  Aleutians East Borough  Metlakatla  Akutan city      Track   \n",
       "\n",
       "       ...      AWater        Lat         Lon   Mean  Median  Stdev  \\\n",
       "0      ...           0  18.357471  -67.155343  17939   12641  15438   \n",
       "2      ...      795887  18.385424  -67.203310  15520    9923  15541   \n",
       "3      ...           0  18.356565  -67.180686  41933   34054  31539   \n",
       "5      ...       48068  18.413356  -67.139934  19661   14558  17213   \n",
       "6      ...       36801  18.459858  -67.080703  47145   19946  57025   \n",
       "...    ...         ...        ...         ...    ...     ...    ...   \n",
       "31950  ...    32661843  57.045145 -135.352251  80041   59519  65235   \n",
       "31951  ...      123838  59.464360 -135.275151  81352   69886  49197   \n",
       "31953  ...  4646176559  55.449938 -131.106685  97685   86630  64617   \n",
       "31954  ...     1172057  55.371516 -131.669594  75033   64332  53249   \n",
       "31955  ...   213611590  55.138352 -131.470424  69964   48663  58581   \n",
       "\n",
       "            sum_w  population  minimum_age  maximum_age  \n",
       "0      721.622289      124560       1910.0       1866.0  \n",
       "2      238.813450      124560       1910.0       1866.0  \n",
       "3      313.551070      124560       1910.0       1866.0  \n",
       "5      516.872210      164067       1910.0       1866.0  \n",
       "6      346.683721      164067       1910.0       1866.0  \n",
       "...           ...         ...          ...          ...  \n",
       "31950  134.493046       26640       1910.0       1866.0  \n",
       "31951  174.689074        2904       1910.0       1866.0  \n",
       "31953  546.003168       40524       1910.0       1866.0  \n",
       "31954  355.017831       40524       1910.0       1866.0  \n",
       "31955  173.826619        4380       1910.0       1866.0  \n",
       "\n",
       "[27426 rows x 23 columns]"
      ]
     },
     "execution_count": 111,
     "metadata": {},
     "output_type": "execute_result"
    }
   ],
   "source": [
    "experiment"
   ]
  },
  {
   "cell_type": "code",
   "execution_count": 112,
   "metadata": {},
   "outputs": [],
   "source": [
    "from scipy import stats\n",
    "experiment = df[(np.abs(stats.zscore(df[\"InitialApprovalAmount\"])) < 2)]"
   ]
  },
  {
   "cell_type": "code",
   "execution_count": 113,
   "metadata": {},
   "outputs": [
    {
     "data": {
      "text/plain": [
       "count     26467.000000\n",
       "mean      61230.991619\n",
       "std       28943.784141\n",
       "min        1176.000000\n",
       "25%       38715.217245\n",
       "50%       57529.458830\n",
       "75%       80497.539208\n",
       "max      142642.510043\n",
       "Name: InitialApprovalAmount, dtype: float64"
      ]
     },
     "execution_count": 113,
     "metadata": {},
     "output_type": "execute_result"
    }
   ],
   "source": [
    "experiment[\"InitialApprovalAmount\"].describe()"
   ]
  },
  {
   "cell_type": "code",
   "execution_count": 114,
   "metadata": {},
   "outputs": [],
   "source": [
    "X = experiment[[\"Median\"]]\n",
    "y = experiment[[\"InitialApprovalAmount\"]]"
   ]
  },
  {
   "cell_type": "code",
   "execution_count": 115,
   "metadata": {},
   "outputs": [
    {
     "data": {
      "text/plain": [
       "0.186696208027515"
      ]
     },
     "execution_count": 115,
     "metadata": {},
     "output_type": "execute_result"
    }
   ],
   "source": [
    "experiment[\"Median\"].corr(experiment[\"InitialApprovalAmount\"])"
   ]
  },
  {
   "cell_type": "code",
   "execution_count": 116,
   "metadata": {},
   "outputs": [],
   "source": [
    "dfSample = experiment.sample(1000) # This is the importante line\n"
   ]
  },
  {
   "cell_type": "code",
   "execution_count": 117,
   "metadata": {},
   "outputs": [
    {
     "name": "stderr",
     "output_type": "stream",
     "text": [
      "/Users/shakilrafi/opt/anaconda3/envs/ASRI2022/lib/python3.9/site-packages/seaborn/_decorators.py:36: FutureWarning: Pass the following variables as keyword args: x, y, data. From version 0.12, the only valid positional argument will be `data`, and passing other arguments without an explicit keyword will result in an error or misinterpretation.\n",
      "  warnings.warn(\n"
     ]
    },
    {
     "data": {
      "image/png": "[encoded data removed]",
      "text/plain": [
       "<Figure size 1080x720 with 1 Axes>"
      ]
     },
     "metadata": {
      "needs_background": "light"
     },
     "output_type": "display_data"
    }
   ],
   "source": [
    "\n",
    "import matplotlib.pyplot as plt\n",
    "import seaborn as sns\n",
    "plt.figure(figsize=[15,10])\n",
    "sns.regplot(dfSample[\"Median\"],dfSample[\"InitialApprovalAmount\"],dfSample)\n",
    "plt.xlabel(\"Median income by zip code\")\n",
    "plt.ylabel(\"Mean initial approval amount\")\n",
    "plt.title(\"The relationship between the median income of a zip-code and the mean initial approval amount\")\n",
    "plt.grid()\n",
    "plt.show()"
   ]
  },
  {
   "cell_type": "code",
   "execution_count": 118,
   "metadata": {},
   "outputs": [
    {
     "data": {
      "text/plain": [
       "<function seaborn.regression.regplot(*, x=None, y=None, data=None, x_estimator=None, x_bins=None, x_ci='ci', scatter=True, fit_reg=True, ci=95, n_boot=1000, units=None, seed=None, order=1, logistic=False, lowess=False, robust=False, logx=False, x_partial=None, y_partial=None, truncate=True, dropna=True, x_jitter=None, y_jitter=None, label=None, color=None, marker='o', scatter_kws=None, line_kws=None, ax=None)>"
      ]
     },
     "execution_count": 118,
     "metadata": {},
     "output_type": "execute_result"
    }
   ],
   "source": [
    "import seaborn as sns\n",
    "sns.regplot"
   ]
  },
  {
   "cell_type": "code",
   "execution_count": 119,
   "metadata": {},
   "outputs": [],
   "source": [
    "from sklearn.model_selection import train_test_split\n",
    "\n",
    "\n",
    "X_train,X_test,y_train,y_test = train_test_split(X,y)"
   ]
  },
  {
   "cell_type": "code",
   "execution_count": 120,
   "metadata": {},
   "outputs": [],
   "source": [
    "from sklearn.linear_model import LinearRegression\n",
    "\n",
    "lin_reg = LinearRegression()"
   ]
  },
  {
   "cell_type": "markdown",
   "metadata": {},
   "source": [
    "Look at other forms of regression, check with different variables, \n",
    "Check if median income is correlated to loan approval amount\n",
    "Hu et. al. lookup Stock Market Paper, 2007\n",
    "You can also do PCA "
   ]
  },
  {
   "cell_type": "code",
   "execution_count": 121,
   "metadata": {},
   "outputs": [],
   "source": [
    "model = lin_reg.fit(X_train,y_train)"
   ]
  },
  {
   "cell_type": "code",
   "execution_count": 122,
   "metadata": {},
   "outputs": [],
   "source": [
    "y_pred = model.predict(X_test)"
   ]
  },
  {
   "cell_type": "code",
   "execution_count": 123,
   "metadata": {},
   "outputs": [
    {
     "data": {
      "text/plain": [
       "815374506.8307744"
      ]
     },
     "execution_count": 123,
     "metadata": {},
     "output_type": "execute_result"
    }
   ],
   "source": [
    "from sklearn.metrics import mean_squared_error\n",
    "\n",
    "mean_squared_error(y_test, y_pred)"
   ]
  },
  {
   "cell_type": "code",
   "execution_count": 124,
   "metadata": {},
   "outputs": [
    {
     "data": {
      "text/plain": [
       "0.5515514602794306"
      ]
     },
     "execution_count": 124,
     "metadata": {},
     "output_type": "execute_result"
    }
   ],
   "source": [
    "from sklearn.metrics import mean_absolute_percentage_error\n",
    "\n",
    "mean_absolute_percentage_error(y_test,y_pred)"
   ]
  },
  {
   "cell_type": "code",
   "execution_count": 125,
   "metadata": {},
   "outputs": [
    {
     "data": {
      "text/plain": [
       "-26.39822772871995"
      ]
     },
     "execution_count": 125,
     "metadata": {},
     "output_type": "execute_result"
    }
   ],
   "source": [
    "from sklearn.metrics import explained_variance_score\n",
    "\n",
    "explained_variance_score(y_pred, y_test)"
   ]
  },
  {
   "cell_type": "code",
   "execution_count": 126,
   "metadata": {},
   "outputs": [
    {
     "name": "stdout",
     "output_type": "stream",
     "text": [
      "<class 'pandas.core.frame.DataFrame'>\n",
      "Int64Index: 26467 entries, 0 to 31955\n",
      "Data columns (total 1 columns):\n",
      " #   Column  Non-Null Count  Dtype\n",
      "---  ------  --------------  -----\n",
      " 0   Median  26467 non-null  int64\n",
      "dtypes: int64(1)\n",
      "memory usage: 413.5 KB\n"
     ]
    }
   ],
   "source": [
    "X.info()"
   ]
  },
  {
   "cell_type": "code",
   "execution_count": 127,
   "metadata": {},
   "outputs": [
    {
     "name": "stdout",
     "output_type": "stream",
     "text": [
      "<class 'pandas.core.frame.DataFrame'>\n",
      "Int64Index: 26467 entries, 0 to 31955\n",
      "Data columns (total 1 columns):\n",
      " #   Column                 Non-Null Count  Dtype  \n",
      "---  ------                 --------------  -----  \n",
      " 0   InitialApprovalAmount  26467 non-null  float64\n",
      "dtypes: float64(1)\n",
      "memory usage: 413.5 KB\n"
     ]
    }
   ],
   "source": [
    "y.info()"
   ]
  },
  {
   "cell_type": "code",
   "execution_count": 128,
   "metadata": {},
   "outputs": [],
   "source": [
    "import statsmodels.api as sm\n",
    "\n",
    "X_ols = X\n",
    "y_ols = y\n",
    "\n",
    "X_ols = sm.add_constant(X_ols)\n",
    "\n",
    "result = sm.OLS(y_ols,X_ols).fit()"
   ]
  },
  {
   "cell_type": "code",
   "execution_count": 129,
   "metadata": {},
   "outputs": [
    {
     "name": "stdout",
     "output_type": "stream",
     "text": [
      "                              OLS Regression Results                             \n",
      "=================================================================================\n",
      "Dep. Variable:     InitialApprovalAmount   R-squared:                       0.035\n",
      "Model:                               OLS   Adj. R-squared:                  0.035\n",
      "Method:                    Least Squares   F-statistic:                     955.8\n",
      "Date:                   Thu, 16 Jun 2022   Prob (F-statistic):          3.45e-206\n",
      "Time:                           10:45:46   Log-Likelihood:            -3.0898e+05\n",
      "No. Observations:                  26467   AIC:                         6.180e+05\n",
      "Df Residuals:                      26465   BIC:                         6.180e+05\n",
      "Df Model:                              1                                         \n",
      "Covariance Type:               nonrobust                                         \n",
      "==============================================================================\n",
      "                 coef    std err          t      P>|t|      [0.025      0.975]\n",
      "------------------------------------------------------------------------------\n",
      "const       5.103e+04    373.286    136.715      0.000    5.03e+04    5.18e+04\n",
      "Median         0.1911      0.006     30.915      0.000       0.179       0.203\n",
      "==============================================================================\n",
      "Omnibus:                     1373.208   Durbin-Watson:                   0.773\n",
      "Prob(Omnibus):                  0.000   Jarque-Bera (JB):             1536.987\n",
      "Skew:                           0.575   Prob(JB):                         0.00\n",
      "Kurtosis:                       2.730   Cond. No.                     1.29e+05\n",
      "==============================================================================\n",
      "\n",
      "Notes:\n",
      "[1] Standard Errors assume that the covariance matrix of the errors is correctly specified.\n",
      "[2] The condition number is large, 1.29e+05. This might indicate that there are\n",
      "strong multicollinearity or other numerical problems.\n"
     ]
    }
   ],
   "source": [
    "print(result.summary())"
   ]
  },
  {
   "cell_type": "code",
   "execution_count": 130,
   "metadata": {},
   "outputs": [],
   "source": [
    "from sklearn.tree import DecisionTreeRegressor\n",
    "\n",
    "regressor = DecisionTreeRegressor(random_state = 0) \n",
    "  \n",
    "# fit the regressor with X and Y data\n",
    "model = regressor.fit(X_train, y_train)"
   ]
  },
  {
   "cell_type": "code",
   "execution_count": 131,
   "metadata": {},
   "outputs": [
    {
     "name": "stdout",
     "output_type": "stream",
     "text": [
      "[[0.19210543]]\n",
      "[50938.0515411]\n"
     ]
    }
   ],
   "source": [
    "print(lin_reg.coef_)\n",
    "print(lin_reg.intercept_)"
   ]
  },
  {
   "cell_type": "code",
   "execution_count": 132,
   "metadata": {},
   "outputs": [
    {
     "data": {
      "text/plain": [
       "0.033753360512837616"
      ]
     },
     "execution_count": 132,
     "metadata": {},
     "output_type": "execute_result"
    }
   ],
   "source": [
    "from sklearn.metrics import r2_score\n",
    "\n",
    "r2_score(y_test, y_pred)"
   ]
  },
  {
   "cell_type": "code",
   "execution_count": 133,
   "metadata": {},
   "outputs": [
    {
     "data": {
      "text/plain": [
       "0.18372087663855083"
      ]
     },
     "execution_count": 133,
     "metadata": {},
     "output_type": "execute_result"
    }
   ],
   "source": [
    "np.sqrt(r2_score(y_test,y_pred))"
   ]
  },
  {
   "cell_type": "code",
   "execution_count": 134,
   "metadata": {},
   "outputs": [
    {
     "data": {
      "text/html": [
       "<div>\n",
       "<style scoped>\n",
       "    .dataframe tbody tr th:only-of-type {\n",
       "        vertical-align: middle;\n",
       "    }\n",
       "\n",
       "    .dataframe tbody tr th {\n",
       "        vertical-align: top;\n",
       "    }\n",
       "\n",
       "    .dataframe thead th {\n",
       "        text-align: right;\n",
       "    }\n",
       "</style>\n",
       "<table border=\"1\" class=\"dataframe\">\n",
       "  <thead>\n",
       "    <tr style=\"text-align: right;\">\n",
       "      <th></th>\n",
       "      <th>Median</th>\n",
       "    </tr>\n",
       "  </thead>\n",
       "  <tbody>\n",
       "    <tr>\n",
       "      <th>0</th>\n",
       "      <td>12641</td>\n",
       "    </tr>\n",
       "    <tr>\n",
       "      <th>2</th>\n",
       "      <td>9923</td>\n",
       "    </tr>\n",
       "    <tr>\n",
       "      <th>3</th>\n",
       "      <td>34054</td>\n",
       "    </tr>\n",
       "    <tr>\n",
       "      <th>5</th>\n",
       "      <td>14558</td>\n",
       "    </tr>\n",
       "    <tr>\n",
       "      <th>6</th>\n",
       "      <td>19946</td>\n",
       "    </tr>\n",
       "    <tr>\n",
       "      <th>...</th>\n",
       "      <td>...</td>\n",
       "    </tr>\n",
       "    <tr>\n",
       "      <th>31950</th>\n",
       "      <td>59519</td>\n",
       "    </tr>\n",
       "    <tr>\n",
       "      <th>31951</th>\n",
       "      <td>69886</td>\n",
       "    </tr>\n",
       "    <tr>\n",
       "      <th>31953</th>\n",
       "      <td>86630</td>\n",
       "    </tr>\n",
       "    <tr>\n",
       "      <th>31954</th>\n",
       "      <td>64332</td>\n",
       "    </tr>\n",
       "    <tr>\n",
       "      <th>31955</th>\n",
       "      <td>48663</td>\n",
       "    </tr>\n",
       "  </tbody>\n",
       "</table>\n",
       "<p>26467 rows × 1 columns</p>\n",
       "</div>"
      ],
      "text/plain": [
       "       Median\n",
       "0       12641\n",
       "2        9923\n",
       "3       34054\n",
       "5       14558\n",
       "6       19946\n",
       "...       ...\n",
       "31950   59519\n",
       "31951   69886\n",
       "31953   86630\n",
       "31954   64332\n",
       "31955   48663\n",
       "\n",
       "[26467 rows x 1 columns]"
      ]
     },
     "execution_count": 134,
     "metadata": {},
     "output_type": "execute_result"
    }
   ],
   "source": [
    "X"
   ]
  },
  {
   "cell_type": "code",
   "execution_count": 135,
   "metadata": {},
   "outputs": [
    {
     "data": {
      "text/plain": [
       "0        19397.552099\n",
       "2        19397.552099\n",
       "3        19397.552099\n",
       "5        27849.886982\n",
       "6        27849.886982\n",
       "             ...     \n",
       "31950    50773.657458\n",
       "31951    95393.482837\n",
       "31953    76587.420484\n",
       "31954    76587.420484\n",
       "31955    20123.684932\n",
       "Name: InitialApprovalAmount, Length: 26467, dtype: float64"
      ]
     },
     "execution_count": 135,
     "metadata": {},
     "output_type": "execute_result"
    }
   ],
   "source": [
    "y[\"InitialApprovalAmount\"]"
   ]
  },
  {
   "cell_type": "code",
   "execution_count": 136,
   "metadata": {},
   "outputs": [
    {
     "data": {
      "text/plain": [
       "PolynomialFeatures(degree=3, include_bias=False)"
      ]
     },
     "execution_count": 136,
     "metadata": {},
     "output_type": "execute_result"
    }
   ],
   "source": [
    "from sklearn.preprocessing import PolynomialFeatures\n",
    "\n",
    "poly = PolynomialFeatures(degree = 3, include_bias=False)\n",
    "poly"
   ]
  },
  {
   "cell_type": "code",
   "execution_count": 137,
   "metadata": {},
   "outputs": [
    {
     "data": {
      "text/html": [
       "<div>\n",
       "<style scoped>\n",
       "    .dataframe tbody tr th:only-of-type {\n",
       "        vertical-align: middle;\n",
       "    }\n",
       "\n",
       "    .dataframe tbody tr th {\n",
       "        vertical-align: top;\n",
       "    }\n",
       "\n",
       "    .dataframe thead th {\n",
       "        text-align: right;\n",
       "    }\n",
       "</style>\n",
       "<table border=\"1\" class=\"dataframe\">\n",
       "  <thead>\n",
       "    <tr style=\"text-align: right;\">\n",
       "      <th></th>\n",
       "      <th>Median</th>\n",
       "    </tr>\n",
       "  </thead>\n",
       "  <tbody>\n",
       "    <tr>\n",
       "      <th>3948</th>\n",
       "      <td>110826</td>\n",
       "    </tr>\n",
       "    <tr>\n",
       "      <th>31678</th>\n",
       "      <td>13036</td>\n",
       "    </tr>\n",
       "    <tr>\n",
       "      <th>15926</th>\n",
       "      <td>54415</td>\n",
       "    </tr>\n",
       "    <tr>\n",
       "      <th>12104</th>\n",
       "      <td>21391</td>\n",
       "    </tr>\n",
       "    <tr>\n",
       "      <th>25399</th>\n",
       "      <td>39207</td>\n",
       "    </tr>\n",
       "    <tr>\n",
       "      <th>...</th>\n",
       "      <td>...</td>\n",
       "    </tr>\n",
       "    <tr>\n",
       "      <th>12338</th>\n",
       "      <td>19843</td>\n",
       "    </tr>\n",
       "    <tr>\n",
       "      <th>23391</th>\n",
       "      <td>58616</td>\n",
       "    </tr>\n",
       "    <tr>\n",
       "      <th>2652</th>\n",
       "      <td>110352</td>\n",
       "    </tr>\n",
       "    <tr>\n",
       "      <th>4197</th>\n",
       "      <td>56638</td>\n",
       "    </tr>\n",
       "    <tr>\n",
       "      <th>9867</th>\n",
       "      <td>34008</td>\n",
       "    </tr>\n",
       "  </tbody>\n",
       "</table>\n",
       "<p>6617 rows × 1 columns</p>\n",
       "</div>"
      ],
      "text/plain": [
       "       Median\n",
       "3948   110826\n",
       "31678   13036\n",
       "15926   54415\n",
       "12104   21391\n",
       "25399   39207\n",
       "...       ...\n",
       "12338   19843\n",
       "23391   58616\n",
       "2652   110352\n",
       "4197    56638\n",
       "9867    34008\n",
       "\n",
       "[6617 rows x 1 columns]"
      ]
     },
     "execution_count": 137,
     "metadata": {},
     "output_type": "execute_result"
    }
   ],
   "source": [
    "X_test"
   ]
  },
  {
   "cell_type": "code",
   "execution_count": 138,
   "metadata": {},
   "outputs": [],
   "source": [
    "X_train_poly = X_train[\"Median\"].values\n",
    "X_test_poly = X_test[\"Median\"].values\n"
   ]
  },
  {
   "cell_type": "code",
   "execution_count": 139,
   "metadata": {},
   "outputs": [
    {
     "data": {
      "text/plain": [
       "(19850, 1)"
      ]
     },
     "execution_count": 139,
     "metadata": {},
     "output_type": "execute_result"
    }
   ],
   "source": [
    "X_train.shape"
   ]
  },
  {
   "cell_type": "code",
   "execution_count": 140,
   "metadata": {},
   "outputs": [
    {
     "data": {
      "text/plain": [
       "(19850, 1)"
      ]
     },
     "execution_count": 140,
     "metadata": {},
     "output_type": "execute_result"
    }
   ],
   "source": [
    "y_train.shape"
   ]
  },
  {
   "cell_type": "code",
   "execution_count": 141,
   "metadata": {},
   "outputs": [
    {
     "ename": "NameError",
     "evalue": "name 'y_poly' is not defined",
     "output_type": "error",
     "traceback": [
      "\u001b[0;31m---------------------------------------------------------------------------\u001b[0m",
      "\u001b[0;31mNameError\u001b[0m                                 Traceback (most recent call last)",
      "\u001b[1;32m/Users/shakilrafi/ASRI_model.ipynb Cell 63'\u001b[0m in \u001b[0;36m<cell line: 1>\u001b[0;34m()\u001b[0m\n\u001b[0;32m----> <a href='vscode-notebook-cell:/Users/shakilrafi/ASRI_model.ipynb#ch0000061?line=0'>1</a>\u001b[0m y_poly\u001b[39m.\u001b[39mshape\n",
      "\u001b[0;31mNameError\u001b[0m: name 'y_poly' is not defined"
     ]
    }
   ],
   "source": [
    "y_poly.shape"
   ]
  },
  {
   "cell_type": "code",
   "execution_count": null,
   "metadata": {},
   "outputs": [
    {
     "data": {
      "text/plain": [
       "(26467,)"
      ]
     },
     "execution_count": 461,
     "metadata": {},
     "output_type": "execute_result"
    }
   ],
   "source": [
    "X_poly.shape"
   ]
  },
  {
   "cell_type": "code",
   "execution_count": null,
   "metadata": {},
   "outputs": [],
   "source": [
    "poly_features = poly.fit_transform(X_train_poly.reshape(-1, 1))"
   ]
  },
  {
   "cell_type": "code",
   "execution_count": null,
   "metadata": {},
   "outputs": [
    {
     "data": {
      "text/plain": [
       "(26467, 2)"
      ]
     },
     "execution_count": 459,
     "metadata": {},
     "output_type": "execute_result"
    }
   ],
   "source": [
    "poly_features.shape"
   ]
  },
  {
   "cell_type": "code",
   "execution_count": null,
   "metadata": {},
   "outputs": [
    {
     "data": {
      "text/plain": [
       "LinearRegression()"
      ]
     },
     "execution_count": 480,
     "metadata": {},
     "output_type": "execute_result"
    }
   ],
   "source": [
    "from sklearn.linear_model import LinearRegression\n",
    "\n",
    "poly_reg_model = LinearRegression()\n",
    "poly_reg_model.fit(poly_features, y_train)"
   ]
  },
  {
   "cell_type": "code",
   "execution_count": null,
   "metadata": {},
   "outputs": [],
   "source": [
    "y_pred_poly = poly_reg_model.predict(poly_features)"
   ]
  },
  {
   "cell_type": "code",
   "execution_count": null,
   "metadata": {},
   "outputs": [
    {
     "data": {
      "text/plain": [
       "-27.975956389477208"
      ]
     },
     "execution_count": 482,
     "metadata": {},
     "output_type": "execute_result"
    }
   ],
   "source": [
    "r2_score(y_pred_poly, y_train)"
   ]
  },
  {
   "cell_type": "code",
   "execution_count": null,
   "metadata": {},
   "outputs": [],
   "source": [
    "from sklearn.linear_model import LinearRegression\n",
    "import statsmodels.api as sm\n",
    "from scipy import stats"
   ]
  },
  {
   "cell_type": "code",
   "execution_count": 143,
   "metadata": {},
   "outputs": [],
   "source": [
    "from sklearn.model_selection import train_test_split\n",
    "from sklearn.model_selection import KFold\n",
    "from sklearn.model_selection import cross_val_score\n",
    "from sklearn.linear_model import LinearRegression"
   ]
  },
  {
   "cell_type": "code",
   "execution_count": 144,
   "metadata": {},
   "outputs": [
    {
     "name": "stdout",
     "output_type": "stream",
     "text": [
      "23225.120371457255\n",
      "23304.402427377365\n",
      "23528.610407995053\n",
      "23488.307002355075\n",
      "23338.7548422008\n",
      "23474.677024289405\n",
      "23416.257401009083\n",
      "23407.40475385076\n",
      "23362.964820669502\n",
      "23379.40048235672\n",
      "23381.56883940483\n",
      "23334.22399094693\n",
      "23350.24679956726\n",
      "23334.82156722059\n",
      "23341.398518036185\n",
      "23334.227626013926\n",
      "23331.073007204308\n",
      "23318.878838278702\n"
     ]
    }
   ],
   "source": [
    "for i in range(2,20):\n",
    "    cv = KFold(n_splits=i)\n",
    "\n",
    "    #build multiple linear regression model\n",
    "    model = LinearRegression()\n",
    "\n",
    "    #use k-fold CV to evaluate model\n",
    "    scores = cross_val_score(model, X, y, scoring='neg_mean_absolute_error',\n",
    "                            cv=cv, n_jobs=-1)\n",
    "\n",
    "    #view mean absolute error\n",
    "    print(np.mean(np.abs(scores)))\n"
   ]
  },
  {
   "cell_type": "code",
   "execution_count": null,
   "metadata": {},
   "outputs": [],
   "source": []
  },
  {
   "cell_type": "code",
   "execution_count": null,
   "metadata": {},
   "outputs": [
    {
     "data": {
      "text/plain": [
       "array([-26853.61327205, -20475.6188817 , -25493.12076168, -25054.90774718,\n",
       "       -20972.55362016, -20404.54938579, -19270.02667897, -23184.99900339,\n",
       "       -24904.60890737, -23038.79561543, -25422.23038605, -24920.65762064,\n",
       "       -24860.78215063, -24086.91969619, -21853.48196361, -22694.93423964,\n",
       "       -21322.20315021, -23680.86889064, -24563.82595597])"
      ]
     },
     "execution_count": 421,
     "metadata": {},
     "output_type": "execute_result"
    }
   ],
   "source": [
    "scores"
   ]
  },
  {
   "cell_type": "code",
   "execution_count": null,
   "metadata": {},
   "outputs": [
    {
     "data": {
      "text/plain": [
       "BorrowerZip   \n",
       "00602        1    3\n",
       "00603        1    5\n",
       "00606        1    1\n",
       "00610        1    3\n",
       "00612        1    4\n",
       "                 ..\n",
       "99833        1    2\n",
       "99835        1    1\n",
       "99840        1    1\n",
       "99901        1    2\n",
       "99926        1    1\n",
       "Length: 13441, dtype: int64"
      ]
     },
     "execution_count": 72,
     "metadata": {},
     "output_type": "execute_result"
    }
   ],
   "source": [
    "df"
   ]
  },
  {
   "cell_type": "code",
   "execution_count": null,
   "metadata": {},
   "outputs": [
    {
     "ename": "TypeError",
     "evalue": "read_csv() missing 1 required positional argument: 'filepath_or_buffer'",
     "output_type": "error",
     "traceback": [
      "\u001b[0;31m---------------------------------------------------------------------------\u001b[0m",
      "\u001b[0;31mTypeError\u001b[0m                                 Traceback (most recent call last)",
      "\u001b[1;32m/Users/shakilrafi/ASRI_model.ipynb Cell 55'\u001b[0m in \u001b[0;36m<cell line: 1>\u001b[0;34m()\u001b[0m\n\u001b[0;32m----> <a href='vscode-notebook-cell:/Users/shakilrafi/ASRI_model.ipynb#ch0000031?line=0'>1</a>\u001b[0m demographics \u001b[39m=\u001b[39m pd\u001b[39m.\u001b[39;49mread_csv()\n",
      "File \u001b[0;32m~/opt/anaconda3/envs/ASRI2022/lib/python3.9/site-packages/pandas/util/_decorators.py:311\u001b[0m, in \u001b[0;36mdeprecate_nonkeyword_arguments.<locals>.decorate.<locals>.wrapper\u001b[0;34m(*args, **kwargs)\u001b[0m\n\u001b[1;32m    305\u001b[0m \u001b[39mif\u001b[39;00m \u001b[39mlen\u001b[39m(args) \u001b[39m>\u001b[39m num_allow_args:\n\u001b[1;32m    306\u001b[0m     warnings\u001b[39m.\u001b[39mwarn(\n\u001b[1;32m    307\u001b[0m         msg\u001b[39m.\u001b[39mformat(arguments\u001b[39m=\u001b[39marguments),\n\u001b[1;32m    308\u001b[0m         \u001b[39mFutureWarning\u001b[39;00m,\n\u001b[1;32m    309\u001b[0m         stacklevel\u001b[39m=\u001b[39mstacklevel,\n\u001b[1;32m    310\u001b[0m     )\n\u001b[0;32m--> 311\u001b[0m \u001b[39mreturn\u001b[39;00m func(\u001b[39m*\u001b[39;49margs, \u001b[39m*\u001b[39;49m\u001b[39m*\u001b[39;49mkwargs)\n",
      "\u001b[0;31mTypeError\u001b[0m: read_csv() missing 1 required positional argument: 'filepath_or_buffer'"
     ]
    }
   ],
   "source": [
    "demographics = pd.read_csv()"
   ]
  },
  {
   "cell_type": "code",
   "execution_count": null,
   "metadata": {},
   "outputs": [
    {
     "name": "stderr",
     "output_type": "stream",
     "text": [
      "/var/folders/zc/cc95gj757jqdfmtj7lsf19j00000gn/T/ipykernel_51156/38216758.py:1: DtypeWarning: Columns (2,3,4,5,6,7,8,9,10,11,12,13,14,15,16,17,18,19,20,21,22,23,24,25,26,27,28,29,30,31,32,33,34,35,36,37,38,39,40,41,42,43,44,45,46,47,48,49,50,51,52,53,54,55,56,57,58,59,60,61,62,63,64,65,66,67,68,69,70,71,72,73,74,75,76,77,78,79,80,81,82,83,84,85,86,87,88,89,90,91,92,93,94,95,96,97,98,99,100,101,102,103,104,105,106,107,108,109,258,259,260,261,262,263,264,265,266,267,268,269,270,271,272,273,274,275,276,277,278,279,280,281,282,283,284,285,286,287,288,289,290,291,292,293,294,295,296,297,298,299,300,301,302,303,304,305,306,307,308,309,310,311,312,313,314,315,316,317,318,319,320,321,322,323,324,325,326,327,328,329,330,331,332,333,334,335,336,337,338,339,340,341,342,343,344,345,346,347,348,349,350,351,352,353,354,355,356,357,358,359,360,361,362,363,364,365,514,515,516,517,518,519,520,521,522,523,524,525,526,527,528,529,530,531,532,533,534,535,536,537,538,539,540,541,542,543,544,545,546,547,548,549,550,551,552,553,554,555,556,557,558,559,560,561,562,563,564,565,566,567,568,569,570,571,572,573,574,575,576,577,578,579,580,581,582,583,584,585,586,587,588,589,590,591,592,593,594,595,596,597,598,599,600,601,602,603,604,605,606,607,608,609,610,611,612,613,614,615,616,617,618,619,620,621) have mixed types. Specify dtype option on import or set low_memory=False.\n",
      "  education = pd.read_csv(\"/Users/shakilrafi/Downloads/ACSST5Y2020/ACSST5Y2020.S1501_data_with_overlays_2022-04-26T221454.csv\")\n"
     ]
    }
   ],
   "source": [
    "education = pd.read_csv(\"/Users/shakilrafi/Downloads/ACSST5Y2020/ACSST5Y2020.S1501_data_with_overlays_2022-04-26T221454.csv\")"
   ]
  },
  {
   "cell_type": "code",
   "execution_count": null,
   "metadata": {},
   "outputs": [
    {
     "data": {
      "text/html": [
       "<div>\n",
       "<style scoped>\n",
       "    .dataframe tbody tr th:only-of-type {\n",
       "        vertical-align: middle;\n",
       "    }\n",
       "\n",
       "    .dataframe tbody tr th {\n",
       "        vertical-align: top;\n",
       "    }\n",
       "\n",
       "    .dataframe thead th {\n",
       "        text-align: right;\n",
       "    }\n",
       "</style>\n",
       "<table border=\"1\" class=\"dataframe\">\n",
       "  <thead>\n",
       "    <tr style=\"text-align: right;\">\n",
       "      <th></th>\n",
       "      <th>GEO_ID</th>\n",
       "      <th>NAME</th>\n",
       "      <th>S1501_C01_001E</th>\n",
       "      <th>S1501_C01_001M</th>\n",
       "      <th>S1501_C01_002E</th>\n",
       "      <th>S1501_C01_002M</th>\n",
       "      <th>S1501_C01_003E</th>\n",
       "      <th>S1501_C01_003M</th>\n",
       "      <th>S1501_C01_004E</th>\n",
       "      <th>S1501_C01_004M</th>\n",
       "      <th>...</th>\n",
       "      <th>S1501_C06_060E</th>\n",
       "      <th>S1501_C06_060M</th>\n",
       "      <th>S1501_C06_061E</th>\n",
       "      <th>S1501_C06_061M</th>\n",
       "      <th>S1501_C06_062E</th>\n",
       "      <th>S1501_C06_062M</th>\n",
       "      <th>S1501_C06_063E</th>\n",
       "      <th>S1501_C06_063M</th>\n",
       "      <th>S1501_C06_064E</th>\n",
       "      <th>S1501_C06_064M</th>\n",
       "    </tr>\n",
       "  </thead>\n",
       "  <tbody>\n",
       "    <tr>\n",
       "      <th>0</th>\n",
       "      <td>id</td>\n",
       "      <td>Geographic Area Name</td>\n",
       "      <td>Estimate!!Total!!AGE BY EDUCATIONAL ATTAINMENT...</td>\n",
       "      <td>Margin of Error!!Total!!AGE BY EDUCATIONAL ATT...</td>\n",
       "      <td>Estimate!!Total!!AGE BY EDUCATIONAL ATTAINMENT...</td>\n",
       "      <td>Margin of Error!!Total!!AGE BY EDUCATIONAL ATT...</td>\n",
       "      <td>Estimate!!Total!!AGE BY EDUCATIONAL ATTAINMENT...</td>\n",
       "      <td>Margin of Error!!Total!!AGE BY EDUCATIONAL ATT...</td>\n",
       "      <td>Estimate!!Total!!AGE BY EDUCATIONAL ATTAINMENT...</td>\n",
       "      <td>Margin of Error!!Total!!AGE BY EDUCATIONAL ATT...</td>\n",
       "      <td>...</td>\n",
       "      <td>Estimate!!Percent Female!!MEDIAN EARNINGS IN T...</td>\n",
       "      <td>Margin of Error!!Percent Female!!MEDIAN EARNIN...</td>\n",
       "      <td>Estimate!!Percent Female!!MEDIAN EARNINGS IN T...</td>\n",
       "      <td>Margin of Error!!Percent Female!!MEDIAN EARNIN...</td>\n",
       "      <td>Estimate!!Percent Female!!MEDIAN EARNINGS IN T...</td>\n",
       "      <td>Margin of Error!!Percent Female!!MEDIAN EARNIN...</td>\n",
       "      <td>Estimate!!Percent Female!!MEDIAN EARNINGS IN T...</td>\n",
       "      <td>Margin of Error!!Percent Female!!MEDIAN EARNIN...</td>\n",
       "      <td>Estimate!!Percent Female!!MEDIAN EARNINGS IN T...</td>\n",
       "      <td>Margin of Error!!Percent Female!!MEDIAN EARNIN...</td>\n",
       "    </tr>\n",
       "    <tr>\n",
       "      <th>1</th>\n",
       "      <td>8600000US00601</td>\n",
       "      <td>ZCTA5 00601</td>\n",
       "      <td>1561</td>\n",
       "      <td>31</td>\n",
       "      <td>235</td>\n",
       "      <td>101</td>\n",
       "      <td>403</td>\n",
       "      <td>151</td>\n",
       "      <td>719</td>\n",
       "      <td>173</td>\n",
       "      <td>...</td>\n",
       "      <td>(X)</td>\n",
       "      <td>(X)</td>\n",
       "      <td>(X)</td>\n",
       "      <td>(X)</td>\n",
       "      <td>(X)</td>\n",
       "      <td>(X)</td>\n",
       "      <td>(X)</td>\n",
       "      <td>(X)</td>\n",
       "      <td>(X)</td>\n",
       "      <td>(X)</td>\n",
       "    </tr>\n",
       "    <tr>\n",
       "      <th>2</th>\n",
       "      <td>8600000US00602</td>\n",
       "      <td>ZCTA5 00602</td>\n",
       "      <td>3399</td>\n",
       "      <td>40</td>\n",
       "      <td>219</td>\n",
       "      <td>121</td>\n",
       "      <td>686</td>\n",
       "      <td>197</td>\n",
       "      <td>1890</td>\n",
       "      <td>248</td>\n",
       "      <td>...</td>\n",
       "      <td>(X)</td>\n",
       "      <td>(X)</td>\n",
       "      <td>(X)</td>\n",
       "      <td>(X)</td>\n",
       "      <td>(X)</td>\n",
       "      <td>(X)</td>\n",
       "      <td>(X)</td>\n",
       "      <td>(X)</td>\n",
       "      <td>(X)</td>\n",
       "      <td>(X)</td>\n",
       "    </tr>\n",
       "    <tr>\n",
       "      <th>3</th>\n",
       "      <td>8600000US00603</td>\n",
       "      <td>ZCTA5 00603</td>\n",
       "      <td>4146</td>\n",
       "      <td>254</td>\n",
       "      <td>487</td>\n",
       "      <td>137</td>\n",
       "      <td>1326</td>\n",
       "      <td>224</td>\n",
       "      <td>2002</td>\n",
       "      <td>288</td>\n",
       "      <td>...</td>\n",
       "      <td>(X)</td>\n",
       "      <td>(X)</td>\n",
       "      <td>(X)</td>\n",
       "      <td>(X)</td>\n",
       "      <td>(X)</td>\n",
       "      <td>(X)</td>\n",
       "      <td>(X)</td>\n",
       "      <td>(X)</td>\n",
       "      <td>(X)</td>\n",
       "      <td>(X)</td>\n",
       "    </tr>\n",
       "    <tr>\n",
       "      <th>4</th>\n",
       "      <td>8600000US00606</td>\n",
       "      <td>ZCTA5 00606</td>\n",
       "      <td>587</td>\n",
       "      <td>121</td>\n",
       "      <td>74</td>\n",
       "      <td>54</td>\n",
       "      <td>125</td>\n",
       "      <td>64</td>\n",
       "      <td>328</td>\n",
       "      <td>93</td>\n",
       "      <td>...</td>\n",
       "      <td>(X)</td>\n",
       "      <td>(X)</td>\n",
       "      <td>(X)</td>\n",
       "      <td>(X)</td>\n",
       "      <td>(X)</td>\n",
       "      <td>(X)</td>\n",
       "      <td>(X)</td>\n",
       "      <td>(X)</td>\n",
       "      <td>(X)</td>\n",
       "      <td>(X)</td>\n",
       "    </tr>\n",
       "  </tbody>\n",
       "</table>\n",
       "<p>5 rows × 770 columns</p>\n",
       "</div>"
      ],
      "text/plain": [
       "           GEO_ID                  NAME  \\\n",
       "0              id  Geographic Area Name   \n",
       "1  8600000US00601           ZCTA5 00601   \n",
       "2  8600000US00602           ZCTA5 00602   \n",
       "3  8600000US00603           ZCTA5 00603   \n",
       "4  8600000US00606           ZCTA5 00606   \n",
       "\n",
       "                                      S1501_C01_001E  \\\n",
       "0  Estimate!!Total!!AGE BY EDUCATIONAL ATTAINMENT...   \n",
       "1                                               1561   \n",
       "2                                               3399   \n",
       "3                                               4146   \n",
       "4                                                587   \n",
       "\n",
       "                                      S1501_C01_001M  \\\n",
       "0  Margin of Error!!Total!!AGE BY EDUCATIONAL ATT...   \n",
       "1                                                 31   \n",
       "2                                                 40   \n",
       "3                                                254   \n",
       "4                                                121   \n",
       "\n",
       "                                      S1501_C01_002E  \\\n",
       "0  Estimate!!Total!!AGE BY EDUCATIONAL ATTAINMENT...   \n",
       "1                                                235   \n",
       "2                                                219   \n",
       "3                                                487   \n",
       "4                                                 74   \n",
       "\n",
       "                                      S1501_C01_002M  \\\n",
       "0  Margin of Error!!Total!!AGE BY EDUCATIONAL ATT...   \n",
       "1                                                101   \n",
       "2                                                121   \n",
       "3                                                137   \n",
       "4                                                 54   \n",
       "\n",
       "                                      S1501_C01_003E  \\\n",
       "0  Estimate!!Total!!AGE BY EDUCATIONAL ATTAINMENT...   \n",
       "1                                                403   \n",
       "2                                                686   \n",
       "3                                               1326   \n",
       "4                                                125   \n",
       "\n",
       "                                      S1501_C01_003M  \\\n",
       "0  Margin of Error!!Total!!AGE BY EDUCATIONAL ATT...   \n",
       "1                                                151   \n",
       "2                                                197   \n",
       "3                                                224   \n",
       "4                                                 64   \n",
       "\n",
       "                                      S1501_C01_004E  \\\n",
       "0  Estimate!!Total!!AGE BY EDUCATIONAL ATTAINMENT...   \n",
       "1                                                719   \n",
       "2                                               1890   \n",
       "3                                               2002   \n",
       "4                                                328   \n",
       "\n",
       "                                      S1501_C01_004M  ...  \\\n",
       "0  Margin of Error!!Total!!AGE BY EDUCATIONAL ATT...  ...   \n",
       "1                                                173  ...   \n",
       "2                                                248  ...   \n",
       "3                                                288  ...   \n",
       "4                                                 93  ...   \n",
       "\n",
       "                                      S1501_C06_060E  \\\n",
       "0  Estimate!!Percent Female!!MEDIAN EARNINGS IN T...   \n",
       "1                                                (X)   \n",
       "2                                                (X)   \n",
       "3                                                (X)   \n",
       "4                                                (X)   \n",
       "\n",
       "                                      S1501_C06_060M  \\\n",
       "0  Margin of Error!!Percent Female!!MEDIAN EARNIN...   \n",
       "1                                                (X)   \n",
       "2                                                (X)   \n",
       "3                                                (X)   \n",
       "4                                                (X)   \n",
       "\n",
       "                                      S1501_C06_061E  \\\n",
       "0  Estimate!!Percent Female!!MEDIAN EARNINGS IN T...   \n",
       "1                                                (X)   \n",
       "2                                                (X)   \n",
       "3                                                (X)   \n",
       "4                                                (X)   \n",
       "\n",
       "                                      S1501_C06_061M  \\\n",
       "0  Margin of Error!!Percent Female!!MEDIAN EARNIN...   \n",
       "1                                                (X)   \n",
       "2                                                (X)   \n",
       "3                                                (X)   \n",
       "4                                                (X)   \n",
       "\n",
       "                                      S1501_C06_062E  \\\n",
       "0  Estimate!!Percent Female!!MEDIAN EARNINGS IN T...   \n",
       "1                                                (X)   \n",
       "2                                                (X)   \n",
       "3                                                (X)   \n",
       "4                                                (X)   \n",
       "\n",
       "                                      S1501_C06_062M  \\\n",
       "0  Margin of Error!!Percent Female!!MEDIAN EARNIN...   \n",
       "1                                                (X)   \n",
       "2                                                (X)   \n",
       "3                                                (X)   \n",
       "4                                                (X)   \n",
       "\n",
       "                                      S1501_C06_063E  \\\n",
       "0  Estimate!!Percent Female!!MEDIAN EARNINGS IN T...   \n",
       "1                                                (X)   \n",
       "2                                                (X)   \n",
       "3                                                (X)   \n",
       "4                                                (X)   \n",
       "\n",
       "                                      S1501_C06_063M  \\\n",
       "0  Margin of Error!!Percent Female!!MEDIAN EARNIN...   \n",
       "1                                                (X)   \n",
       "2                                                (X)   \n",
       "3                                                (X)   \n",
       "4                                                (X)   \n",
       "\n",
       "                                      S1501_C06_064E  \\\n",
       "0  Estimate!!Percent Female!!MEDIAN EARNINGS IN T...   \n",
       "1                                                (X)   \n",
       "2                                                (X)   \n",
       "3                                                (X)   \n",
       "4                                                (X)   \n",
       "\n",
       "                                      S1501_C06_064M  \n",
       "0  Margin of Error!!Percent Female!!MEDIAN EARNIN...  \n",
       "1                                                (X)  \n",
       "2                                                (X)  \n",
       "3                                                (X)  \n",
       "4                                                (X)  \n",
       "\n",
       "[5 rows x 770 columns]"
      ]
     },
     "execution_count": 45,
     "metadata": {},
     "output_type": "execute_result"
    }
   ],
   "source": [
    "education.head()"
   ]
  },
  {
   "cell_type": "code",
   "execution_count": null,
   "metadata": {},
   "outputs": [],
   "source": [
    "path = \"/Users/shakilrafi/Project_Small_Business_Schubert/\"\n",
    "csv_files = glob.glob(path + \"/*.csv\")\n",
    "\n",
    "# Read each CSV file into DataFrame\n",
    "# This creates a list of dataframes\n",
    "df_list = (pd.read_csv(file, usecols=[\"BorrowerZip\",\"LMIIndicator\"]) for file in csv_files)\n",
    "\n",
    "# Concatenate all DataFrames\n",
    "lmi   = pd.concat(df_list, ignore_index=True)"
   ]
  },
  {
   "cell_type": "code",
   "execution_count": null,
   "metadata": {},
   "outputs": [
    {
     "data": {
      "text/html": [
       "<div>\n",
       "<style scoped>\n",
       "    .dataframe tbody tr th:only-of-type {\n",
       "        vertical-align: middle;\n",
       "    }\n",
       "\n",
       "    .dataframe tbody tr th {\n",
       "        vertical-align: top;\n",
       "    }\n",
       "\n",
       "    .dataframe thead th {\n",
       "        text-align: right;\n",
       "    }\n",
       "</style>\n",
       "<table border=\"1\" class=\"dataframe\">\n",
       "  <thead>\n",
       "    <tr style=\"text-align: right;\">\n",
       "      <th></th>\n",
       "      <th>BorrowerZip</th>\n",
       "      <th>LMIIndicator</th>\n",
       "    </tr>\n",
       "  </thead>\n",
       "  <tbody>\n",
       "    <tr>\n",
       "      <th>0</th>\n",
       "      <td>33707-1331</td>\n",
       "      <td>N</td>\n",
       "    </tr>\n",
       "    <tr>\n",
       "      <th>1</th>\n",
       "      <td>33309</td>\n",
       "      <td>Y</td>\n",
       "    </tr>\n",
       "    <tr>\n",
       "      <th>2</th>\n",
       "      <td>34677</td>\n",
       "      <td>N</td>\n",
       "    </tr>\n",
       "    <tr>\n",
       "      <th>3</th>\n",
       "      <td>33016-5814</td>\n",
       "      <td>N</td>\n",
       "    </tr>\n",
       "    <tr>\n",
       "      <th>4</th>\n",
       "      <td>33907</td>\n",
       "      <td>N</td>\n",
       "    </tr>\n",
       "  </tbody>\n",
       "</table>\n",
       "</div>"
      ],
      "text/plain": [
       "  BorrowerZip LMIIndicator\n",
       "0  33707-1331            N\n",
       "1       33309            Y\n",
       "2       34677            N\n",
       "3  33016-5814            N\n",
       "4       33907            N"
      ]
     },
     "execution_count": 47,
     "metadata": {},
     "output_type": "execute_result"
    }
   ],
   "source": [
    "lmi.head()"
   ]
  },
  {
   "cell_type": "code",
   "execution_count": null,
   "metadata": {},
   "outputs": [
    {
     "ename": "KeyboardInterrupt",
     "evalue": "",
     "output_type": "error",
     "traceback": [
      "\u001b[0;31m---------------------------------------------------------------------------\u001b[0m",
      "\u001b[0;31mKeyboardInterrupt\u001b[0m                         Traceback (most recent call last)",
      "\u001b[1;32m/Users/shakilrafi/ASRI_model.ipynb Cell 81'\u001b[0m in \u001b[0;36m<cell line: 1>\u001b[0;34m()\u001b[0m\n\u001b[0;32m----> <a href='vscode-notebook-cell:/Users/shakilrafi/ASRI_model.ipynb#ch0000079?line=0'>1</a>\u001b[0m lmi[\u001b[39m\"\u001b[39m\u001b[39mBorrowerZip\u001b[39m\u001b[39m\"\u001b[39m] \u001b[39m=\u001b[39m lmi[\u001b[39m\"\u001b[39;49m\u001b[39mBorrowerZip\u001b[39;49m\u001b[39m\"\u001b[39;49m]\u001b[39m.\u001b[39;49mstr\u001b[39m.\u001b[39;49msplit(\u001b[39m'\u001b[39;49m\u001b[39m-\u001b[39;49m\u001b[39m'\u001b[39;49m, \u001b[39m1\u001b[39;49m)\u001b[39m.\u001b[39;49mstr[\u001b[39m0\u001b[39m]\n",
      "File \u001b[0;32m~/opt/anaconda3/envs/ASRI2022/lib/python3.9/site-packages/pandas/core/accessor.py:182\u001b[0m, in \u001b[0;36mCachedAccessor.__get__\u001b[0;34m(self, obj, cls)\u001b[0m\n\u001b[1;32m    179\u001b[0m \u001b[39mif\u001b[39;00m obj \u001b[39mis\u001b[39;00m \u001b[39mNone\u001b[39;00m:\n\u001b[1;32m    180\u001b[0m     \u001b[39m# we're accessing the attribute of the class, i.e., Dataset.geo\u001b[39;00m\n\u001b[1;32m    181\u001b[0m     \u001b[39mreturn\u001b[39;00m \u001b[39mself\u001b[39m\u001b[39m.\u001b[39m_accessor\n\u001b[0;32m--> 182\u001b[0m accessor_obj \u001b[39m=\u001b[39m \u001b[39mself\u001b[39;49m\u001b[39m.\u001b[39;49m_accessor(obj)\n\u001b[1;32m    183\u001b[0m \u001b[39m# Replace the property with the accessor object. Inspired by:\u001b[39;00m\n\u001b[1;32m    184\u001b[0m \u001b[39m# https://www.pydanny.com/cached-property.html\u001b[39;00m\n\u001b[1;32m    185\u001b[0m \u001b[39m# We need to use object.__setattr__ because we overwrite __setattr__ on\u001b[39;00m\n\u001b[1;32m    186\u001b[0m \u001b[39m# NDFrame\u001b[39;00m\n\u001b[1;32m    187\u001b[0m \u001b[39mobject\u001b[39m\u001b[39m.\u001b[39m\u001b[39m__setattr__\u001b[39m(obj, \u001b[39mself\u001b[39m\u001b[39m.\u001b[39m_name, accessor_obj)\n",
      "File \u001b[0;32m~/opt/anaconda3/envs/ASRI2022/lib/python3.9/site-packages/pandas/core/strings/accessor.py:177\u001b[0m, in \u001b[0;36mStringMethods.__init__\u001b[0;34m(self, data)\u001b[0m\n\u001b[1;32m    174\u001b[0m \u001b[39mdef\u001b[39;00m \u001b[39m__init__\u001b[39m(\u001b[39mself\u001b[39m, data):\n\u001b[1;32m    175\u001b[0m     \u001b[39mfrom\u001b[39;00m \u001b[39mpandas\u001b[39;00m\u001b[39m.\u001b[39;00m\u001b[39mcore\u001b[39;00m\u001b[39m.\u001b[39;00m\u001b[39marrays\u001b[39;00m\u001b[39m.\u001b[39;00m\u001b[39mstring_\u001b[39;00m \u001b[39mimport\u001b[39;00m StringDtype\n\u001b[0;32m--> 177\u001b[0m     \u001b[39mself\u001b[39m\u001b[39m.\u001b[39m_inferred_dtype \u001b[39m=\u001b[39m \u001b[39mself\u001b[39;49m\u001b[39m.\u001b[39;49m_validate(data)\n\u001b[1;32m    178\u001b[0m     \u001b[39mself\u001b[39m\u001b[39m.\u001b[39m_is_categorical \u001b[39m=\u001b[39m is_categorical_dtype(data\u001b[39m.\u001b[39mdtype)\n\u001b[1;32m    179\u001b[0m     \u001b[39mself\u001b[39m\u001b[39m.\u001b[39m_is_string \u001b[39m=\u001b[39m \u001b[39misinstance\u001b[39m(data\u001b[39m.\u001b[39mdtype, StringDtype)\n",
      "File \u001b[0;32m~/opt/anaconda3/envs/ASRI2022/lib/python3.9/site-packages/pandas/core/strings/accessor.py:228\u001b[0m, in \u001b[0;36mStringMethods._validate\u001b[0;34m(data)\u001b[0m\n\u001b[1;32m    224\u001b[0m data \u001b[39m=\u001b[39m extract_array(data)\n\u001b[1;32m    226\u001b[0m values \u001b[39m=\u001b[39m \u001b[39mgetattr\u001b[39m(data, \u001b[39m\"\u001b[39m\u001b[39mcategories\u001b[39m\u001b[39m\"\u001b[39m, data)  \u001b[39m# categorical / normal\u001b[39;00m\n\u001b[0;32m--> 228\u001b[0m inferred_dtype \u001b[39m=\u001b[39m lib\u001b[39m.\u001b[39;49minfer_dtype(values, skipna\u001b[39m=\u001b[39;49m\u001b[39mTrue\u001b[39;49;00m)\n\u001b[1;32m    230\u001b[0m \u001b[39mif\u001b[39;00m inferred_dtype \u001b[39mnot\u001b[39;00m \u001b[39min\u001b[39;00m allowed_types:\n\u001b[1;32m    231\u001b[0m     \u001b[39mraise\u001b[39;00m \u001b[39mAttributeError\u001b[39;00m(\u001b[39m\"\u001b[39m\u001b[39mCan only use .str accessor with string values!\u001b[39m\u001b[39m\"\u001b[39m)\n",
      "\u001b[0;31mKeyboardInterrupt\u001b[0m: "
     ]
    }
   ],
   "source": [
    "lmi[\"BorrowerZip\"] = lmi[\"BorrowerZip\"].str.split('-', 1).str[0]"
   ]
  },
  {
   "cell_type": "code",
   "execution_count": null,
   "metadata": {},
   "outputs": [
    {
     "data": {
      "text/html": [
       "<div>\n",
       "<style scoped>\n",
       "    .dataframe tbody tr th:only-of-type {\n",
       "        vertical-align: middle;\n",
       "    }\n",
       "\n",
       "    .dataframe tbody tr th {\n",
       "        vertical-align: top;\n",
       "    }\n",
       "\n",
       "    .dataframe thead th {\n",
       "        text-align: right;\n",
       "    }\n",
       "</style>\n",
       "<table border=\"1\" class=\"dataframe\">\n",
       "  <thead>\n",
       "    <tr style=\"text-align: right;\">\n",
       "      <th></th>\n",
       "      <th>BorrowerZip</th>\n",
       "      <th>LMIIndicator</th>\n",
       "    </tr>\n",
       "  </thead>\n",
       "  <tbody>\n",
       "    <tr>\n",
       "      <th>0</th>\n",
       "      <td>33707</td>\n",
       "      <td>N</td>\n",
       "    </tr>\n",
       "    <tr>\n",
       "      <th>1</th>\n",
       "      <td>33309</td>\n",
       "      <td>Y</td>\n",
       "    </tr>\n",
       "    <tr>\n",
       "      <th>2</th>\n",
       "      <td>34677</td>\n",
       "      <td>N</td>\n",
       "    </tr>\n",
       "    <tr>\n",
       "      <th>3</th>\n",
       "      <td>33016</td>\n",
       "      <td>N</td>\n",
       "    </tr>\n",
       "    <tr>\n",
       "      <th>4</th>\n",
       "      <td>33907</td>\n",
       "      <td>N</td>\n",
       "    </tr>\n",
       "    <tr>\n",
       "      <th>...</th>\n",
       "      <td>...</td>\n",
       "      <td>...</td>\n",
       "    </tr>\n",
       "    <tr>\n",
       "      <th>11468676</th>\n",
       "      <td>76453</td>\n",
       "      <td>N</td>\n",
       "    </tr>\n",
       "    <tr>\n",
       "      <th>11468677</th>\n",
       "      <td>78748</td>\n",
       "      <td>N</td>\n",
       "    </tr>\n",
       "    <tr>\n",
       "      <th>11468678</th>\n",
       "      <td>75044</td>\n",
       "      <td>N</td>\n",
       "    </tr>\n",
       "    <tr>\n",
       "      <th>11468679</th>\n",
       "      <td>77034</td>\n",
       "      <td>Y</td>\n",
       "    </tr>\n",
       "    <tr>\n",
       "      <th>11468680</th>\n",
       "      <td>75860</td>\n",
       "      <td>N</td>\n",
       "    </tr>\n",
       "  </tbody>\n",
       "</table>\n",
       "<p>11468681 rows × 2 columns</p>\n",
       "</div>"
      ],
      "text/plain": [
       "         BorrowerZip LMIIndicator\n",
       "0              33707            N\n",
       "1              33309            Y\n",
       "2              34677            N\n",
       "3              33016            N\n",
       "4              33907            N\n",
       "...              ...          ...\n",
       "11468676       76453            N\n",
       "11468677       78748            N\n",
       "11468678       75044            N\n",
       "11468679       77034            Y\n",
       "11468680       75860            N\n",
       "\n",
       "[11468681 rows x 2 columns]"
      ]
     },
     "execution_count": 49,
     "metadata": {},
     "output_type": "execute_result"
    }
   ],
   "source": [
    "lmi"
   ]
  },
  {
   "cell_type": "code",
   "execution_count": null,
   "metadata": {},
   "outputs": [
    {
     "data": {
      "text/plain": [
       "<pandas.core.groupby.generic.DataFrameGroupBy object at 0x15e73ce80>"
      ]
     },
     "execution_count": 54,
     "metadata": {},
     "output_type": "execute_result"
    }
   ],
   "source": [
    "lmi.groupby(\"BorrowerZip\")"
   ]
  },
  {
   "cell_type": "code",
   "execution_count": null,
   "metadata": {},
   "outputs": [],
   "source": [
    "# Get CSV files list from a folder\n",
    "path = \"/Users/shakilrafi/Project_Small_Business_Schubert/\"\n",
    "csv_files = glob.glob(path + \"/*.csv\")\n",
    "\n",
    "# Read each CSV file into DataFrame\n",
    "# This creates a list of dataframes\n",
    "df_list = (pd.read_csv(file, usecols=[\"BorrowerZip\"]) for file in csv_files)\n",
    "\n",
    "# Concatenate all DataFrames\n",
    "new_df   = pd.concat(df_list, ignore_index=True)"
   ]
  },
  {
   "cell_type": "code",
   "execution_count": null,
   "metadata": {},
   "outputs": [],
   "source": [
    "new_df[\"BorrowerZip\"] = new_df[\"BorrowerZip\"].str.split('-', 1).str[0]"
   ]
  },
  {
   "cell_type": "code",
   "execution_count": null,
   "metadata": {},
   "outputs": [],
   "source": [
    "new_df = new_df.value_counts().to_frame().reset_index()"
   ]
  },
  {
   "cell_type": "code",
   "execution_count": null,
   "metadata": {},
   "outputs": [
    {
     "name": "stdout",
     "output_type": "stream",
     "text": [
      "<class 'pandas.core.frame.DataFrame'>\n",
      "RangeIndex: 37640 entries, 0 to 37639\n",
      "Data columns (total 2 columns):\n",
      " #   Column       Non-Null Count  Dtype \n",
      "---  ------       --------------  ----- \n",
      " 0   BorrowerZip  37640 non-null  object\n",
      " 1   0            37640 non-null  int64 \n",
      "dtypes: int64(1), object(1)\n",
      "memory usage: 588.2+ KB\n"
     ]
    }
   ],
   "source": [
    "new_df.info()"
   ]
  },
  {
   "cell_type": "code",
   "execution_count": null,
   "metadata": {},
   "outputs": [
    {
     "data": {
      "text/html": [
       "<div>\n",
       "<style scoped>\n",
       "    .dataframe tbody tr th:only-of-type {\n",
       "        vertical-align: middle;\n",
       "    }\n",
       "\n",
       "    .dataframe tbody tr th {\n",
       "        vertical-align: top;\n",
       "    }\n",
       "\n",
       "    .dataframe thead th {\n",
       "        text-align: right;\n",
       "    }\n",
       "</style>\n",
       "<table border=\"1\" class=\"dataframe\">\n",
       "  <thead>\n",
       "    <tr style=\"text-align: right;\">\n",
       "      <th></th>\n",
       "      <th>BorrowerZip</th>\n",
       "      <th>0</th>\n",
       "    </tr>\n",
       "  </thead>\n",
       "  <tbody>\n",
       "    <tr>\n",
       "      <th>0</th>\n",
       "      <td>30349</td>\n",
       "      <td>10527</td>\n",
       "    </tr>\n",
       "    <tr>\n",
       "      <th>1</th>\n",
       "      <td>60620</td>\n",
       "      <td>9549</td>\n",
       "    </tr>\n",
       "    <tr>\n",
       "      <th>2</th>\n",
       "      <td>33178</td>\n",
       "      <td>8903</td>\n",
       "    </tr>\n",
       "    <tr>\n",
       "      <th>3</th>\n",
       "      <td>60628</td>\n",
       "      <td>8827</td>\n",
       "    </tr>\n",
       "    <tr>\n",
       "      <th>4</th>\n",
       "      <td>60619</td>\n",
       "      <td>8716</td>\n",
       "    </tr>\n",
       "    <tr>\n",
       "      <th>...</th>\n",
       "      <td>...</td>\n",
       "      <td>...</td>\n",
       "    </tr>\n",
       "    <tr>\n",
       "      <th>37635</th>\n",
       "      <td>92633</td>\n",
       "      <td>1</td>\n",
       "    </tr>\n",
       "    <tr>\n",
       "      <th>37636</th>\n",
       "      <td>30726</td>\n",
       "      <td>1</td>\n",
       "    </tr>\n",
       "    <tr>\n",
       "      <th>37637</th>\n",
       "      <td>92640</td>\n",
       "      <td>1</td>\n",
       "    </tr>\n",
       "    <tr>\n",
       "      <th>37638</th>\n",
       "      <td>30609</td>\n",
       "      <td>1</td>\n",
       "    </tr>\n",
       "    <tr>\n",
       "      <th>37639</th>\n",
       "      <td>00092</td>\n",
       "      <td>1</td>\n",
       "    </tr>\n",
       "  </tbody>\n",
       "</table>\n",
       "<p>37640 rows × 2 columns</p>\n",
       "</div>"
      ],
      "text/plain": [
       "      BorrowerZip      0\n",
       "0           30349  10527\n",
       "1           60620   9549\n",
       "2           33178   8903\n",
       "3           60628   8827\n",
       "4           60619   8716\n",
       "...           ...    ...\n",
       "37635       92633      1\n",
       "37636       30726      1\n",
       "37637       92640      1\n",
       "37638       30609      1\n",
       "37639       00092      1\n",
       "\n",
       "[37640 rows x 2 columns]"
      ]
     },
     "execution_count": 57,
     "metadata": {},
     "output_type": "execute_result"
    }
   ],
   "source": [
    "new_df"
   ]
  },
  {
   "cell_type": "code",
   "execution_count": null,
   "metadata": {},
   "outputs": [
    {
     "data": {
      "text/html": [
       "<div>\n",
       "<style scoped>\n",
       "    .dataframe tbody tr th:only-of-type {\n",
       "        vertical-align: middle;\n",
       "    }\n",
       "\n",
       "    .dataframe tbody tr th {\n",
       "        vertical-align: top;\n",
       "    }\n",
       "\n",
       "    .dataframe thead th {\n",
       "        text-align: right;\n",
       "    }\n",
       "</style>\n",
       "<table border=\"1\" class=\"dataframe\">\n",
       "  <thead>\n",
       "    <tr style=\"text-align: right;\">\n",
       "      <th></th>\n",
       "      <th>BorrowerZip</th>\n",
       "      <th>InitialApprovalAmount</th>\n",
       "    </tr>\n",
       "  </thead>\n",
       "  <tbody>\n",
       "    <tr>\n",
       "      <th>0</th>\n",
       "      <td>33707</td>\n",
       "      <td>3900.00</td>\n",
       "    </tr>\n",
       "    <tr>\n",
       "      <th>1</th>\n",
       "      <td>33309</td>\n",
       "      <td>3900.00</td>\n",
       "    </tr>\n",
       "    <tr>\n",
       "      <th>2</th>\n",
       "      <td>34677</td>\n",
       "      <td>3900.00</td>\n",
       "    </tr>\n",
       "    <tr>\n",
       "      <th>3</th>\n",
       "      <td>33016</td>\n",
       "      <td>3900.00</td>\n",
       "    </tr>\n",
       "    <tr>\n",
       "      <th>4</th>\n",
       "      <td>33907</td>\n",
       "      <td>3900.00</td>\n",
       "    </tr>\n",
       "    <tr>\n",
       "      <th>...</th>\n",
       "      <td>...</td>\n",
       "      <td>...</td>\n",
       "    </tr>\n",
       "    <tr>\n",
       "      <th>11468676</th>\n",
       "      <td>76453</td>\n",
       "      <td>86130.00</td>\n",
       "    </tr>\n",
       "    <tr>\n",
       "      <th>11468677</th>\n",
       "      <td>78748</td>\n",
       "      <td>86127.00</td>\n",
       "    </tr>\n",
       "    <tr>\n",
       "      <th>11468678</th>\n",
       "      <td>75044</td>\n",
       "      <td>86126.32</td>\n",
       "    </tr>\n",
       "    <tr>\n",
       "      <th>11468679</th>\n",
       "      <td>77034</td>\n",
       "      <td>86125.00</td>\n",
       "    </tr>\n",
       "    <tr>\n",
       "      <th>11468680</th>\n",
       "      <td>75860</td>\n",
       "      <td>86125.00</td>\n",
       "    </tr>\n",
       "  </tbody>\n",
       "</table>\n",
       "<p>11468681 rows × 2 columns</p>\n",
       "</div>"
      ],
      "text/plain": [
       "         BorrowerZip  InitialApprovalAmount\n",
       "0              33707                3900.00\n",
       "1              33309                3900.00\n",
       "2              34677                3900.00\n",
       "3              33016                3900.00\n",
       "4              33907                3900.00\n",
       "...              ...                    ...\n",
       "11468676       76453               86130.00\n",
       "11468677       78748               86127.00\n",
       "11468678       75044               86126.32\n",
       "11468679       77034               86125.00\n",
       "11468680       75860               86125.00\n",
       "\n",
       "[11468681 rows x 2 columns]"
      ]
     },
     "execution_count": 77,
     "metadata": {},
     "output_type": "execute_result"
    }
   ],
   "source": [
    "df"
   ]
  },
  {
   "cell_type": "code",
   "execution_count": null,
   "metadata": {},
   "outputs": [],
   "source": [
    "population = pd.read_csv(\"/Users/shakilrafi/Downloads/archive-2/population_by_zip_2010.csv\", dtype={\"zipcode\":str})"
   ]
  },
  {
   "cell_type": "code",
   "execution_count": null,
   "metadata": {},
   "outputs": [
    {
     "name": "stdout",
     "output_type": "stream",
     "text": [
      "<class 'pandas.core.frame.DataFrame'>\n",
      "RangeIndex: 1622831 entries, 0 to 1622830\n",
      "Data columns (total 6 columns):\n",
      " #   Column       Non-Null Count    Dtype  \n",
      "---  ------       --------------    -----  \n",
      " 0   population   1622831 non-null  int64  \n",
      " 1   minimum_age  1523474 non-null  float64\n",
      " 2   maximum_age  1457236 non-null  float64\n",
      " 3   gender       1589712 non-null  object \n",
      " 4   zipcode      1622831 non-null  object \n",
      " 5   geo_id       1622831 non-null  object \n",
      "dtypes: float64(2), int64(1), object(3)\n",
      "memory usage: 74.3+ MB\n"
     ]
    }
   ],
   "source": [
    "population.info()"
   ]
  },
  {
   "cell_type": "code",
   "execution_count": null,
   "metadata": {},
   "outputs": [],
   "source": [
    "population = population.rename(columns = {\"zipcode\":\"BorrowerZip\"})"
   ]
  },
  {
   "cell_type": "code",
   "execution_count": null,
   "metadata": {},
   "outputs": [],
   "source": [
    "population = population.groupby(\"BorrowerZip\").sum(\"population\").reset_index()"
   ]
  },
  {
   "cell_type": "code",
   "execution_count": null,
   "metadata": {},
   "outputs": [],
   "source": [
    "population = pd.merge(population, new_df)"
   ]
  },
  {
   "cell_type": "code",
   "execution_count": null,
   "metadata": {},
   "outputs": [],
   "source": [
    "population = population.rename(columns={0:\"Number of loans\"})"
   ]
  },
  {
   "cell_type": "code",
   "execution_count": null,
   "metadata": {},
   "outputs": [],
   "source": [
    "population[\"Number of loans per capita\"] = population[\"Number of loans\"]/population[\"population\"]"
   ]
  },
  {
   "cell_type": "code",
   "execution_count": null,
   "metadata": {},
   "outputs": [
    {
     "data": {
      "text/html": [
       "<div>\n",
       "<style scoped>\n",
       "    .dataframe tbody tr th:only-of-type {\n",
       "        vertical-align: middle;\n",
       "    }\n",
       "\n",
       "    .dataframe tbody tr th {\n",
       "        vertical-align: top;\n",
       "    }\n",
       "\n",
       "    .dataframe thead th {\n",
       "        text-align: right;\n",
       "    }\n",
       "</style>\n",
       "<table border=\"1\" class=\"dataframe\">\n",
       "  <thead>\n",
       "    <tr style=\"text-align: right;\">\n",
       "      <th></th>\n",
       "      <th>BorrowerZip</th>\n",
       "      <th>population</th>\n",
       "      <th>minimum_age</th>\n",
       "      <th>maximum_age</th>\n",
       "      <th>Number of loans</th>\n",
       "      <th>Number of loans per capita</th>\n",
       "    </tr>\n",
       "  </thead>\n",
       "  <tbody>\n",
       "    <tr>\n",
       "      <th>0</th>\n",
       "      <td>00602</td>\n",
       "      <td>124560</td>\n",
       "      <td>1910.0</td>\n",
       "      <td>1866.0</td>\n",
       "      <td>767</td>\n",
       "      <td>0.006158</td>\n",
       "    </tr>\n",
       "    <tr>\n",
       "      <th>1</th>\n",
       "      <td>00603</td>\n",
       "      <td>164067</td>\n",
       "      <td>1910.0</td>\n",
       "      <td>1866.0</td>\n",
       "      <td>1057</td>\n",
       "      <td>0.006442</td>\n",
       "    </tr>\n",
       "    <tr>\n",
       "      <th>2</th>\n",
       "      <td>00606</td>\n",
       "      <td>19845</td>\n",
       "      <td>1910.0</td>\n",
       "      <td>1866.0</td>\n",
       "      <td>36</td>\n",
       "      <td>0.001814</td>\n",
       "    </tr>\n",
       "    <tr>\n",
       "      <th>3</th>\n",
       "      <td>00610</td>\n",
       "      <td>87048</td>\n",
       "      <td>1910.0</td>\n",
       "      <td>1866.0</td>\n",
       "      <td>316</td>\n",
       "      <td>0.003630</td>\n",
       "    </tr>\n",
       "    <tr>\n",
       "      <th>4</th>\n",
       "      <td>00612</td>\n",
       "      <td>201030</td>\n",
       "      <td>1910.0</td>\n",
       "      <td>1866.0</td>\n",
       "      <td>1287</td>\n",
       "      <td>0.006402</td>\n",
       "    </tr>\n",
       "    <tr>\n",
       "      <th>...</th>\n",
       "      <td>...</td>\n",
       "      <td>...</td>\n",
       "      <td>...</td>\n",
       "      <td>...</td>\n",
       "      <td>...</td>\n",
       "      <td>...</td>\n",
       "    </tr>\n",
       "    <tr>\n",
       "      <th>32283</th>\n",
       "      <td>99923</td>\n",
       "      <td>261</td>\n",
       "      <td>1910.0</td>\n",
       "      <td>1866.0</td>\n",
       "      <td>1</td>\n",
       "      <td>0.003831</td>\n",
       "    </tr>\n",
       "    <tr>\n",
       "      <th>32284</th>\n",
       "      <td>99925</td>\n",
       "      <td>2457</td>\n",
       "      <td>1910.0</td>\n",
       "      <td>1866.0</td>\n",
       "      <td>22</td>\n",
       "      <td>0.008954</td>\n",
       "    </tr>\n",
       "    <tr>\n",
       "      <th>32285</th>\n",
       "      <td>99926</td>\n",
       "      <td>4380</td>\n",
       "      <td>1910.0</td>\n",
       "      <td>1866.0</td>\n",
       "      <td>73</td>\n",
       "      <td>0.016667</td>\n",
       "    </tr>\n",
       "    <tr>\n",
       "      <th>32286</th>\n",
       "      <td>99927</td>\n",
       "      <td>282</td>\n",
       "      <td>1910.0</td>\n",
       "      <td>1866.0</td>\n",
       "      <td>5</td>\n",
       "      <td>0.017730</td>\n",
       "    </tr>\n",
       "    <tr>\n",
       "      <th>32287</th>\n",
       "      <td>99929</td>\n",
       "      <td>7014</td>\n",
       "      <td>1910.0</td>\n",
       "      <td>1866.0</td>\n",
       "      <td>301</td>\n",
       "      <td>0.042914</td>\n",
       "    </tr>\n",
       "  </tbody>\n",
       "</table>\n",
       "<p>32288 rows × 6 columns</p>\n",
       "</div>"
      ],
      "text/plain": [
       "      BorrowerZip  population  minimum_age  maximum_age  Number of loans  \\\n",
       "0           00602      124560       1910.0       1866.0              767   \n",
       "1           00603      164067       1910.0       1866.0             1057   \n",
       "2           00606       19845       1910.0       1866.0               36   \n",
       "3           00610       87048       1910.0       1866.0              316   \n",
       "4           00612      201030       1910.0       1866.0             1287   \n",
       "...           ...         ...          ...          ...              ...   \n",
       "32283       99923         261       1910.0       1866.0                1   \n",
       "32284       99925        2457       1910.0       1866.0               22   \n",
       "32285       99926        4380       1910.0       1866.0               73   \n",
       "32286       99927         282       1910.0       1866.0                5   \n",
       "32287       99929        7014       1910.0       1866.0              301   \n",
       "\n",
       "       Number of loans per capita  \n",
       "0                        0.006158  \n",
       "1                        0.006442  \n",
       "2                        0.001814  \n",
       "3                        0.003630  \n",
       "4                        0.006402  \n",
       "...                           ...  \n",
       "32283                    0.003831  \n",
       "32284                    0.008954  \n",
       "32285                    0.016667  \n",
       "32286                    0.017730  \n",
       "32287                    0.042914  \n",
       "\n",
       "[32288 rows x 6 columns]"
      ]
     },
     "execution_count": 67,
     "metadata": {},
     "output_type": "execute_result"
    }
   ],
   "source": [
    "population"
   ]
  },
  {
   "cell_type": "code",
   "execution_count": null,
   "metadata": {},
   "outputs": [],
   "source": [
    "population = pd.merge(population,new_df)"
   ]
  },
  {
   "cell_type": "code",
   "execution_count": null,
   "metadata": {},
   "outputs": [
    {
     "data": {
      "text/html": [
       "<div>\n",
       "<style scoped>\n",
       "    .dataframe tbody tr th:only-of-type {\n",
       "        vertical-align: middle;\n",
       "    }\n",
       "\n",
       "    .dataframe tbody tr th {\n",
       "        vertical-align: top;\n",
       "    }\n",
       "\n",
       "    .dataframe thead th {\n",
       "        text-align: right;\n",
       "    }\n",
       "</style>\n",
       "<table border=\"1\" class=\"dataframe\">\n",
       "  <thead>\n",
       "    <tr style=\"text-align: right;\">\n",
       "      <th></th>\n",
       "      <th>BorrowerZip</th>\n",
       "      <th>population</th>\n",
       "      <th>minimum_age</th>\n",
       "      <th>maximum_age</th>\n",
       "      <th>Number of loans</th>\n",
       "      <th>Number of loans per capita</th>\n",
       "      <th>0</th>\n",
       "    </tr>\n",
       "  </thead>\n",
       "  <tbody>\n",
       "    <tr>\n",
       "      <th>0</th>\n",
       "      <td>00602</td>\n",
       "      <td>124560</td>\n",
       "      <td>1910.0</td>\n",
       "      <td>1866.0</td>\n",
       "      <td>767</td>\n",
       "      <td>0.006158</td>\n",
       "      <td>767</td>\n",
       "    </tr>\n",
       "    <tr>\n",
       "      <th>1</th>\n",
       "      <td>00603</td>\n",
       "      <td>164067</td>\n",
       "      <td>1910.0</td>\n",
       "      <td>1866.0</td>\n",
       "      <td>1057</td>\n",
       "      <td>0.006442</td>\n",
       "      <td>1057</td>\n",
       "    </tr>\n",
       "    <tr>\n",
       "      <th>2</th>\n",
       "      <td>00606</td>\n",
       "      <td>19845</td>\n",
       "      <td>1910.0</td>\n",
       "      <td>1866.0</td>\n",
       "      <td>36</td>\n",
       "      <td>0.001814</td>\n",
       "      <td>36</td>\n",
       "    </tr>\n",
       "    <tr>\n",
       "      <th>3</th>\n",
       "      <td>00610</td>\n",
       "      <td>87048</td>\n",
       "      <td>1910.0</td>\n",
       "      <td>1866.0</td>\n",
       "      <td>316</td>\n",
       "      <td>0.003630</td>\n",
       "      <td>316</td>\n",
       "    </tr>\n",
       "    <tr>\n",
       "      <th>4</th>\n",
       "      <td>00612</td>\n",
       "      <td>201030</td>\n",
       "      <td>1910.0</td>\n",
       "      <td>1866.0</td>\n",
       "      <td>1287</td>\n",
       "      <td>0.006402</td>\n",
       "      <td>1287</td>\n",
       "    </tr>\n",
       "    <tr>\n",
       "      <th>...</th>\n",
       "      <td>...</td>\n",
       "      <td>...</td>\n",
       "      <td>...</td>\n",
       "      <td>...</td>\n",
       "      <td>...</td>\n",
       "      <td>...</td>\n",
       "      <td>...</td>\n",
       "    </tr>\n",
       "    <tr>\n",
       "      <th>32283</th>\n",
       "      <td>99923</td>\n",
       "      <td>261</td>\n",
       "      <td>1910.0</td>\n",
       "      <td>1866.0</td>\n",
       "      <td>1</td>\n",
       "      <td>0.003831</td>\n",
       "      <td>1</td>\n",
       "    </tr>\n",
       "    <tr>\n",
       "      <th>32284</th>\n",
       "      <td>99925</td>\n",
       "      <td>2457</td>\n",
       "      <td>1910.0</td>\n",
       "      <td>1866.0</td>\n",
       "      <td>22</td>\n",
       "      <td>0.008954</td>\n",
       "      <td>22</td>\n",
       "    </tr>\n",
       "    <tr>\n",
       "      <th>32285</th>\n",
       "      <td>99926</td>\n",
       "      <td>4380</td>\n",
       "      <td>1910.0</td>\n",
       "      <td>1866.0</td>\n",
       "      <td>73</td>\n",
       "      <td>0.016667</td>\n",
       "      <td>73</td>\n",
       "    </tr>\n",
       "    <tr>\n",
       "      <th>32286</th>\n",
       "      <td>99927</td>\n",
       "      <td>282</td>\n",
       "      <td>1910.0</td>\n",
       "      <td>1866.0</td>\n",
       "      <td>5</td>\n",
       "      <td>0.017730</td>\n",
       "      <td>5</td>\n",
       "    </tr>\n",
       "    <tr>\n",
       "      <th>32287</th>\n",
       "      <td>99929</td>\n",
       "      <td>7014</td>\n",
       "      <td>1910.0</td>\n",
       "      <td>1866.0</td>\n",
       "      <td>301</td>\n",
       "      <td>0.042914</td>\n",
       "      <td>301</td>\n",
       "    </tr>\n",
       "  </tbody>\n",
       "</table>\n",
       "<p>32288 rows × 7 columns</p>\n",
       "</div>"
      ],
      "text/plain": [
       "      BorrowerZip  population  minimum_age  maximum_age  Number of loans  \\\n",
       "0           00602      124560       1910.0       1866.0              767   \n",
       "1           00603      164067       1910.0       1866.0             1057   \n",
       "2           00606       19845       1910.0       1866.0               36   \n",
       "3           00610       87048       1910.0       1866.0              316   \n",
       "4           00612      201030       1910.0       1866.0             1287   \n",
       "...           ...         ...          ...          ...              ...   \n",
       "32283       99923         261       1910.0       1866.0                1   \n",
       "32284       99925        2457       1910.0       1866.0               22   \n",
       "32285       99926        4380       1910.0       1866.0               73   \n",
       "32286       99927         282       1910.0       1866.0                5   \n",
       "32287       99929        7014       1910.0       1866.0              301   \n",
       "\n",
       "       Number of loans per capita     0  \n",
       "0                        0.006158   767  \n",
       "1                        0.006442  1057  \n",
       "2                        0.001814    36  \n",
       "3                        0.003630   316  \n",
       "4                        0.006402  1287  \n",
       "...                           ...   ...  \n",
       "32283                    0.003831     1  \n",
       "32284                    0.008954    22  \n",
       "32285                    0.016667    73  \n",
       "32286                    0.017730     5  \n",
       "32287                    0.042914   301  \n",
       "\n",
       "[32288 rows x 7 columns]"
      ]
     },
     "execution_count": 71,
     "metadata": {},
     "output_type": "execute_result"
    }
   ],
   "source": [
    "population"
   ]
  },
  {
   "cell_type": "code",
   "execution_count": null,
   "metadata": {},
   "outputs": [
    {
     "data": {
      "text/plain": [
       "<matplotlib.collections.PathCollection at 0x37e372610>"
      ]
     },
     "execution_count": 160,
     "metadata": {},
     "output_type": "execute_result"
    },
    {
     "data": {
      "image/png": "[encoded data removed]",
      "text/plain": [
       "<Figure size 1440x720 with 1 Axes>"
      ]
     },
     "metadata": {
      "needs_background": "light"
     },
     "output_type": "display_data"
    }
   ],
   "source": [
    "import matplotlib.pyplot as plt \n",
    "\n",
    "plt.figure(figsize = [20,10])\n",
    "plt.scatter(np.log(population[\"Median\"]),(population[\"Number of loans\"]))"
   ]
  },
  {
   "cell_type": "code",
   "execution_count": null,
   "metadata": {},
   "outputs": [
    {
     "data": {
      "text/plain": [
       "0.045054519194083785"
      ]
     },
     "execution_count": 158,
     "metadata": {},
     "output_type": "execute_result"
    }
   ],
   "source": [
    "population[\"Number of loans\"].corr(population[\"Median\"])"
   ]
  },
  {
   "cell_type": "code",
   "execution_count": null,
   "metadata": {},
   "outputs": [
    {
     "name": "stdout",
     "output_type": "stream",
     "text": [
      "<class 'pandas.core.frame.DataFrame'>\n",
      "Int64Index: 31956 entries, 0 to 31955\n",
      "Data columns (total 25 columns):\n",
      " #   Column                      Non-Null Count  Dtype  \n",
      "---  ------                      --------------  -----  \n",
      " 0   BorrowerZip                 31956 non-null  object \n",
      " 1   population                  31956 non-null  int64  \n",
      " 2   minimum_age                 31956 non-null  float64\n",
      " 3   maximum_age                 31956 non-null  float64\n",
      " 4   Number of loans             31956 non-null  int64  \n",
      " 5   Number of loans per capita  31956 non-null  float64\n",
      " 6   InitialApprovalAmount       31956 non-null  float64\n",
      " 7   id                          31956 non-null  int64  \n",
      " 8   State_Code                  31956 non-null  int64  \n",
      " 9   State_Name                  31956 non-null  object \n",
      " 10  State_ab                    31956 non-null  object \n",
      " 11  County                      31956 non-null  object \n",
      " 12  City                        31956 non-null  object \n",
      " 13  Place                       31956 non-null  object \n",
      " 14  Type                        31956 non-null  object \n",
      " 15  Primary                     31956 non-null  object \n",
      " 16  Area_Code                   31956 non-null  object \n",
      " 17  ALand                       31956 non-null  int64  \n",
      " 18  AWater                      31956 non-null  int64  \n",
      " 19  Lat                         31956 non-null  float64\n",
      " 20  Lon                         31956 non-null  float64\n",
      " 21  Mean                        31956 non-null  int64  \n",
      " 22  Median                      31956 non-null  int64  \n",
      " 23  Stdev                       31956 non-null  int64  \n",
      " 24  sum_w                       31956 non-null  float64\n",
      "dtypes: float64(7), int64(9), object(9)\n",
      "memory usage: 6.3+ MB\n"
     ]
    }
   ],
   "source": [
    "population.info()"
   ]
  },
  {
   "cell_type": "code",
   "execution_count": null,
   "metadata": {},
   "outputs": [],
   "source": [
    "a = population[\"Number of loans per capita\"].describe()"
   ]
  },
  {
   "cell_type": "code",
   "execution_count": null,
   "metadata": {},
   "outputs": [],
   "source": [
    "population = population.replace([np.inf,-np.inf],np.nan)"
   ]
  },
  {
   "cell_type": "code",
   "execution_count": null,
   "metadata": {},
   "outputs": [
    {
     "data": {
      "text/plain": [
       "0.003301786806159421"
      ]
     },
     "execution_count": 107,
     "metadata": {},
     "output_type": "execute_result"
    }
   ],
   "source": [
    "population[\"Median\"].corr(population[\"Number of loans per capita\"])"
   ]
  },
  {
   "cell_type": "code",
   "execution_count": null,
   "metadata": {},
   "outputs": [
    {
     "name": "stdout",
     "output_type": "stream",
     "text": [
      "<class 'pandas.core.frame.DataFrame'>\n",
      "Int64Index: 31953 entries, 0 to 31955\n",
      "Data columns (total 25 columns):\n",
      " #   Column                      Non-Null Count  Dtype  \n",
      "---  ------                      --------------  -----  \n",
      " 0   BorrowerZip                 31953 non-null  object \n",
      " 1   population                  31953 non-null  int64  \n",
      " 2   minimum_age                 31953 non-null  float64\n",
      " 3   maximum_age                 31953 non-null  float64\n",
      " 4   Number of loans             31953 non-null  int64  \n",
      " 5   Number of loans per capita  31953 non-null  float64\n",
      " 6   InitialApprovalAmount       31953 non-null  float64\n",
      " 7   id                          31953 non-null  int64  \n",
      " 8   State_Code                  31953 non-null  int64  \n",
      " 9   State_Name                  31953 non-null  object \n",
      " 10  State_ab                    31953 non-null  object \n",
      " 11  County                      31953 non-null  object \n",
      " 12  City                        31953 non-null  object \n",
      " 13  Place                       31953 non-null  object \n",
      " 14  Type                        31953 non-null  object \n",
      " 15  Primary                     31953 non-null  object \n",
      " 16  Area_Code                   31953 non-null  object \n",
      " 17  ALand                       31953 non-null  int64  \n",
      " 18  AWater                      31953 non-null  int64  \n",
      " 19  Lat                         31953 non-null  float64\n",
      " 20  Lon                         31953 non-null  float64\n",
      " 21  Mean                        31953 non-null  int64  \n",
      " 22  Median                      31953 non-null  int64  \n",
      " 23  Stdev                       31953 non-null  int64  \n",
      " 24  sum_w                       31953 non-null  float64\n",
      "dtypes: float64(7), int64(9), object(9)\n",
      "memory usage: 6.3+ MB\n"
     ]
    }
   ],
   "source": [
    "population.info()"
   ]
  },
  {
   "cell_type": "code",
   "execution_count": null,
   "metadata": {},
   "outputs": [
    {
     "data": {
      "text/html": [
       "<div>\n",
       "<style scoped>\n",
       "    .dataframe tbody tr th:only-of-type {\n",
       "        vertical-align: middle;\n",
       "    }\n",
       "\n",
       "    .dataframe tbody tr th {\n",
       "        vertical-align: top;\n",
       "    }\n",
       "\n",
       "    .dataframe thead th {\n",
       "        text-align: right;\n",
       "    }\n",
       "</style>\n",
       "<table border=\"1\" class=\"dataframe\">\n",
       "  <thead>\n",
       "    <tr style=\"text-align: right;\">\n",
       "      <th></th>\n",
       "      <th>BorrowerZip</th>\n",
       "      <th>population</th>\n",
       "      <th>minimum_age</th>\n",
       "      <th>maximum_age</th>\n",
       "      <th>Number of loans</th>\n",
       "      <th>Number of loans per capita</th>\n",
       "      <th>InitialApprovalAmount</th>\n",
       "      <th>id</th>\n",
       "      <th>State_Code</th>\n",
       "      <th>State_Name</th>\n",
       "      <th>...</th>\n",
       "      <th>Primary</th>\n",
       "      <th>Area_Code</th>\n",
       "      <th>ALand</th>\n",
       "      <th>AWater</th>\n",
       "      <th>Lat</th>\n",
       "      <th>Lon</th>\n",
       "      <th>Mean</th>\n",
       "      <th>Median</th>\n",
       "      <th>Stdev</th>\n",
       "      <th>sum_w</th>\n",
       "    </tr>\n",
       "  </thead>\n",
       "  <tbody>\n",
       "    <tr>\n",
       "      <th>0</th>\n",
       "      <td>00602</td>\n",
       "      <td>124560</td>\n",
       "      <td>1910.0</td>\n",
       "      <td>1866.0</td>\n",
       "      <td>767</td>\n",
       "      <td>0.006158</td>\n",
       "      <td>19397.552099</td>\n",
       "      <td>7201727</td>\n",
       "      <td>72</td>\n",
       "      <td>Puerto Rico</td>\n",
       "      <td>...</td>\n",
       "      <td>place</td>\n",
       "      <td>787</td>\n",
       "      <td>4242241</td>\n",
       "      <td>0</td>\n",
       "      <td>18.357471</td>\n",
       "      <td>-67.155343</td>\n",
       "      <td>17939</td>\n",
       "      <td>12641</td>\n",
       "      <td>15438</td>\n",
       "      <td>721.622289</td>\n",
       "    </tr>\n",
       "    <tr>\n",
       "      <th>1</th>\n",
       "      <td>00602</td>\n",
       "      <td>124560</td>\n",
       "      <td>1910.0</td>\n",
       "      <td>1866.0</td>\n",
       "      <td>767</td>\n",
       "      <td>0.006158</td>\n",
       "      <td>19397.552099</td>\n",
       "      <td>720216</td>\n",
       "      <td>72</td>\n",
       "      <td>Puerto Rico</td>\n",
       "      <td>...</td>\n",
       "      <td>Track</td>\n",
       "      <td>787</td>\n",
       "      <td>0</td>\n",
       "      <td>33597561</td>\n",
       "      <td>18.412041</td>\n",
       "      <td>-67.213413</td>\n",
       "      <td>0</td>\n",
       "      <td>0</td>\n",
       "      <td>0</td>\n",
       "      <td>0.000000</td>\n",
       "    </tr>\n",
       "    <tr>\n",
       "      <th>2</th>\n",
       "      <td>00602</td>\n",
       "      <td>124560</td>\n",
       "      <td>1910.0</td>\n",
       "      <td>1866.0</td>\n",
       "      <td>767</td>\n",
       "      <td>0.006158</td>\n",
       "      <td>19397.552099</td>\n",
       "      <td>7202966</td>\n",
       "      <td>72</td>\n",
       "      <td>Puerto Rico</td>\n",
       "      <td>...</td>\n",
       "      <td>Track</td>\n",
       "      <td>787</td>\n",
       "      <td>1801613</td>\n",
       "      <td>795887</td>\n",
       "      <td>18.385424</td>\n",
       "      <td>-67.203310</td>\n",
       "      <td>15520</td>\n",
       "      <td>9923</td>\n",
       "      <td>15541</td>\n",
       "      <td>238.813450</td>\n",
       "    </tr>\n",
       "    <tr>\n",
       "      <th>3</th>\n",
       "      <td>00602</td>\n",
       "      <td>124560</td>\n",
       "      <td>1910.0</td>\n",
       "      <td>1866.0</td>\n",
       "      <td>767</td>\n",
       "      <td>0.006158</td>\n",
       "      <td>19397.552099</td>\n",
       "      <td>7202976</td>\n",
       "      <td>72</td>\n",
       "      <td>Puerto Rico</td>\n",
       "      <td>...</td>\n",
       "      <td>Track</td>\n",
       "      <td>787</td>\n",
       "      <td>11031227</td>\n",
       "      <td>0</td>\n",
       "      <td>18.356565</td>\n",
       "      <td>-67.180686</td>\n",
       "      <td>41933</td>\n",
       "      <td>34054</td>\n",
       "      <td>31539</td>\n",
       "      <td>313.551070</td>\n",
       "    </tr>\n",
       "    <tr>\n",
       "      <th>4</th>\n",
       "      <td>00602</td>\n",
       "      <td>124560</td>\n",
       "      <td>1910.0</td>\n",
       "      <td>1866.0</td>\n",
       "      <td>767</td>\n",
       "      <td>0.006158</td>\n",
       "      <td>19397.552099</td>\n",
       "      <td>7202986</td>\n",
       "      <td>72</td>\n",
       "      <td>Puerto Rico</td>\n",
       "      <td>...</td>\n",
       "      <td>Track</td>\n",
       "      <td>787</td>\n",
       "      <td>0</td>\n",
       "      <td>33597561</td>\n",
       "      <td>18.412041</td>\n",
       "      <td>-67.213413</td>\n",
       "      <td>0</td>\n",
       "      <td>0</td>\n",
       "      <td>0</td>\n",
       "      <td>0.000000</td>\n",
       "    </tr>\n",
       "  </tbody>\n",
       "</table>\n",
       "<p>5 rows × 25 columns</p>\n",
       "</div>"
      ],
      "text/plain": [
       "  BorrowerZip  population  minimum_age  maximum_age  Number of loans  \\\n",
       "0       00602      124560       1910.0       1866.0              767   \n",
       "1       00602      124560       1910.0       1866.0              767   \n",
       "2       00602      124560       1910.0       1866.0              767   \n",
       "3       00602      124560       1910.0       1866.0              767   \n",
       "4       00602      124560       1910.0       1866.0              767   \n",
       "\n",
       "   Number of loans per capita  InitialApprovalAmount       id  State_Code  \\\n",
       "0                    0.006158           19397.552099  7201727          72   \n",
       "1                    0.006158           19397.552099   720216          72   \n",
       "2                    0.006158           19397.552099  7202966          72   \n",
       "3                    0.006158           19397.552099  7202976          72   \n",
       "4                    0.006158           19397.552099  7202986          72   \n",
       "\n",
       "    State_Name  ... Primary Area_Code     ALand    AWater        Lat  \\\n",
       "0  Puerto Rico  ...   place       787   4242241         0  18.357471   \n",
       "1  Puerto Rico  ...   Track       787         0  33597561  18.412041   \n",
       "2  Puerto Rico  ...   Track       787   1801613    795887  18.385424   \n",
       "3  Puerto Rico  ...   Track       787  11031227         0  18.356565   \n",
       "4  Puerto Rico  ...   Track       787         0  33597561  18.412041   \n",
       "\n",
       "         Lon   Mean  Median  Stdev       sum_w  \n",
       "0 -67.155343  17939   12641  15438  721.622289  \n",
       "1 -67.213413      0       0      0    0.000000  \n",
       "2 -67.203310  15520    9923  15541  238.813450  \n",
       "3 -67.180686  41933   34054  31539  313.551070  \n",
       "4 -67.213413      0       0      0    0.000000  \n",
       "\n",
       "[5 rows x 25 columns]"
      ]
     },
     "execution_count": 152,
     "metadata": {},
     "output_type": "execute_result"
    }
   ],
   "source": [
    "population.head()"
   ]
  },
  {
   "cell_type": "code",
   "execution_count": null,
   "metadata": {},
   "outputs": [
    {
     "data": {
      "text/plain": [
       "-0.0005421058800889611"
      ]
     },
     "execution_count": 151,
     "metadata": {},
     "output_type": "execute_result"
    }
   ],
   "source": [
    "from sklearn.linear_model import LinearRegression\n",
    "from sklearn.metrics import r2_score\n",
    "\n",
    "X = population[[\"Median\"]]\n",
    "y = population[[\"Number of loans per capita\"]]\n",
    "\n",
    "X_train,X_test,y_train,y_test = train_test_split(X,y)\n",
    "\n",
    "model2 = LinearRegression()\n",
    "model2.fit(X_train,y_train)\n",
    "y_pred = model2.predict(X_test)\n",
    "r2_score(y_test,y_pred)\n"
   ]
  },
  {
   "cell_type": "code",
   "execution_count": null,
   "metadata": {},
   "outputs": [],
   "source": [
    "model2.predict()"
   ]
  },
  {
   "cell_type": "code",
   "execution_count": null,
   "metadata": {},
   "outputs": [
    {
     "data": {
      "text/plain": [
       "-7.590818306783973e+17"
      ]
     },
     "execution_count": 147,
     "metadata": {},
     "output_type": "execute_result"
    }
   ],
   "source": [
    "r2_score(y_pred,y_test)"
   ]
  },
  {
   "cell_type": "code",
   "execution_count": null,
   "metadata": {},
   "outputs": [
    {
     "data": {
      "text/html": [
       "<div>\n",
       "<style scoped>\n",
       "    .dataframe tbody tr th:only-of-type {\n",
       "        vertical-align: middle;\n",
       "    }\n",
       "\n",
       "    .dataframe tbody tr th {\n",
       "        vertical-align: top;\n",
       "    }\n",
       "\n",
       "    .dataframe thead th {\n",
       "        text-align: right;\n",
       "    }\n",
       "</style>\n",
       "<table border=\"1\" class=\"dataframe\">\n",
       "  <thead>\n",
       "    <tr style=\"text-align: right;\">\n",
       "      <th></th>\n",
       "      <th>Number of loans per capita</th>\n",
       "    </tr>\n",
       "  </thead>\n",
       "  <tbody>\n",
       "    <tr>\n",
       "      <th>0</th>\n",
       "      <td>0.006158</td>\n",
       "    </tr>\n",
       "    <tr>\n",
       "      <th>1</th>\n",
       "      <td>0.006158</td>\n",
       "    </tr>\n",
       "    <tr>\n",
       "      <th>2</th>\n",
       "      <td>0.006158</td>\n",
       "    </tr>\n",
       "    <tr>\n",
       "      <th>3</th>\n",
       "      <td>0.006158</td>\n",
       "    </tr>\n",
       "    <tr>\n",
       "      <th>4</th>\n",
       "      <td>0.006158</td>\n",
       "    </tr>\n",
       "    <tr>\n",
       "      <th>...</th>\n",
       "      <td>...</td>\n",
       "    </tr>\n",
       "    <tr>\n",
       "      <th>31951</th>\n",
       "      <td>0.048554</td>\n",
       "    </tr>\n",
       "    <tr>\n",
       "      <th>31952</th>\n",
       "      <td>0.019371</td>\n",
       "    </tr>\n",
       "    <tr>\n",
       "      <th>31953</th>\n",
       "      <td>0.019371</td>\n",
       "    </tr>\n",
       "    <tr>\n",
       "      <th>31954</th>\n",
       "      <td>0.019371</td>\n",
       "    </tr>\n",
       "    <tr>\n",
       "      <th>31955</th>\n",
       "      <td>0.016667</td>\n",
       "    </tr>\n",
       "  </tbody>\n",
       "</table>\n",
       "<p>31953 rows × 1 columns</p>\n",
       "</div>"
      ],
      "text/plain": [
       "       Number of loans per capita\n",
       "0                        0.006158\n",
       "1                        0.006158\n",
       "2                        0.006158\n",
       "3                        0.006158\n",
       "4                        0.006158\n",
       "...                           ...\n",
       "31951                    0.048554\n",
       "31952                    0.019371\n",
       "31953                    0.019371\n",
       "31954                    0.019371\n",
       "31955                    0.016667\n",
       "\n",
       "[31953 rows x 1 columns]"
      ]
     },
     "execution_count": 142,
     "metadata": {},
     "output_type": "execute_result"
    }
   ],
   "source": [
    "y"
   ]
  },
  {
   "cell_type": "code",
   "execution_count": null,
   "metadata": {},
   "outputs": [
    {
     "data": {
      "text/plain": [
       "Text(0, 0.5, 'WCSS')"
      ]
     },
     "execution_count": 110,
     "metadata": {},
     "output_type": "execute_result"
    },
    {
     "data": {
      "image/png": "[encoded data removed]",
      "text/plain": [
       "<Figure size 432x288 with 1 Axes>"
      ]
     },
     "metadata": {
      "needs_background": "light"
     },
     "output_type": "display_data"
    }
   ],
   "source": [
    "wcss=[]\n",
    "for i in range(1,7):\n",
    "    kmeans = KMeans(i)\n",
    "    kmeans.fit(X)\n",
    "    wcss_iter = kmeans.inertia_\n",
    "    wcss.append(wcss_iter)\n",
    "\n",
    "number_clusters = range(1,7)\n",
    "plt.plot(number_clusters,wcss)\n",
    "plt.title('The Elbow title')\n",
    "plt.xlabel('Number of clusters')\n",
    "plt.ylabel('WCSS')"
   ]
  },
  {
   "cell_type": "code",
   "execution_count": null,
   "metadata": {},
   "outputs": [
    {
     "data": {
      "text/plain": [
       "KMeans(n_clusters=2)"
      ]
     },
     "execution_count": 111,
     "metadata": {},
     "output_type": "execute_result"
    }
   ],
   "source": [
    "population = population.dropna()\n",
    "from sklearn.cluster import KMeans\n",
    "\n",
    "kmeans = KMeans(2)\n",
    "X = population[[\"Number of loans per capita\",\"Median\"]]\n",
    "kmeans.fit(X)\n"
   ]
  },
  {
   "cell_type": "code",
   "execution_count": null,
   "metadata": {},
   "outputs": [
    {
     "data": {
      "text/plain": [
       "array([[1.29138104e-02, 5.21807601e+04],\n",
       "       [1.29958083e-02, 2.96057289e+05]])"
      ]
     },
     "execution_count": 112,
     "metadata": {},
     "output_type": "execute_result"
    }
   ],
   "source": [
    "kmeans.cluster_centers_"
   ]
  },
  {
   "cell_type": "code",
   "execution_count": null,
   "metadata": {},
   "outputs": [
    {
     "ename": "TypeError",
     "evalue": "'Index' object is not callable",
     "output_type": "error",
     "traceback": [
      "\u001b[0;31m---------------------------------------------------------------------------\u001b[0m",
      "\u001b[0;31mTypeError\u001b[0m                                 Traceback (most recent call last)",
      "\u001b[1;32m/Users/shakilrafi/ASRI_model.ipynb Cell 91'\u001b[0m in \u001b[0;36m<cell line: 1>\u001b[0;34m()\u001b[0m\n\u001b[0;32m----> <a href='vscode-notebook-cell:/Users/shakilrafi/ASRI_model.ipynb#ch0000070?line=0'>1</a>\u001b[0m df\u001b[39m.\u001b[39;49mcolumns()\n",
      "\u001b[0;31mTypeError\u001b[0m: 'Index' object is not callable"
     ]
    }
   ],
   "source": [
    "df.columns()"
   ]
  },
  {
   "cell_type": "code",
   "execution_count": 1,
   "metadata": {},
   "outputs": [
    {
     "name": "stdout",
     "output_type": "stream",
     "text": [
      "\u001b[31mERROR: Could not find a version that satisfies the requirement quiskit (from versions: none)\u001b[0m\n",
      "\u001b[31mERROR: No matching distribution found for quiskit\u001b[0m\n"
     ]
    }
   ],
   "source": [
    "!pip install quiskit"
   ]
  },
  {
   "cell_type": "code",
   "execution_count": 1,
   "metadata": {},
   "outputs": [
    {
     "name": "stdout",
     "output_type": "stream",
     "text": [
      "Collecting mapbox\n",
      "  Downloading mapbox-0.18.0-py2.py3-none-any.whl (30 kB)\n",
      "Requirement already satisfied: requests in /Users/shakilrafi/opt/anaconda3/envs/ASRI2022/lib/python3.9/site-packages (from mapbox) (2.27.1)\n",
      "Collecting uritemplate>=2.0\n",
      "  Downloading uritemplate-4.1.1-py2.py3-none-any.whl (10 kB)\n",
      "Requirement already satisfied: boto3>=1.4 in /Users/shakilrafi/opt/anaconda3/envs/ASRI2022/lib/python3.9/site-packages (from mapbox) (1.24.7)\n",
      "Collecting polyline>=1.3.1\n",
      "  Downloading polyline-1.4.0-py2.py3-none-any.whl (4.4 kB)\n",
      "Requirement already satisfied: python-dateutil>=2.5.0 in /Users/shakilrafi/opt/anaconda3/envs/ASRI2022/lib/python3.9/site-packages (from mapbox) (2.8.2)\n",
      "Collecting iso3166\n",
      "  Downloading iso3166-2.0.2-py3-none-any.whl (8.5 kB)\n",
      "Collecting cachecontrol\n",
      "  Downloading CacheControl-0.12.11-py2.py3-none-any.whl (21 kB)\n",
      "Requirement already satisfied: jmespath<2.0.0,>=0.7.1 in /Users/shakilrafi/opt/anaconda3/envs/ASRI2022/lib/python3.9/site-packages (from boto3>=1.4->mapbox) (1.0.0)\n",
      "Requirement already satisfied: s3transfer<0.7.0,>=0.6.0 in /Users/shakilrafi/opt/anaconda3/envs/ASRI2022/lib/python3.9/site-packages (from boto3>=1.4->mapbox) (0.6.0)\n",
      "Requirement already satisfied: botocore<1.28.0,>=1.27.7 in /Users/shakilrafi/opt/anaconda3/envs/ASRI2022/lib/python3.9/site-packages (from boto3>=1.4->mapbox) (1.27.7)\n",
      "Requirement already satisfied: urllib3<1.27,>=1.25.4 in /Users/shakilrafi/opt/anaconda3/envs/ASRI2022/lib/python3.9/site-packages (from botocore<1.28.0,>=1.27.7->boto3>=1.4->mapbox) (1.26.9)\n",
      "Requirement already satisfied: six>=1.8.0 in /Users/shakilrafi/opt/anaconda3/envs/ASRI2022/lib/python3.9/site-packages (from polyline>=1.3.1->mapbox) (1.16.0)\n",
      "Collecting msgpack>=0.5.2\n",
      "  Downloading msgpack-1.0.4-cp39-cp39-macosx_11_0_arm64.whl (69 kB)\n",
      "\u001b[K     |████████████████████████████████| 69 kB 4.1 MB/s  eta 0:00:01\n",
      "\u001b[?25hRequirement already satisfied: charset-normalizer~=2.0.0 in /Users/shakilrafi/opt/anaconda3/envs/ASRI2022/lib/python3.9/site-packages (from requests->mapbox) (2.0.12)\n",
      "Requirement already satisfied: idna<4,>=2.5 in /Users/shakilrafi/opt/anaconda3/envs/ASRI2022/lib/python3.9/site-packages (from requests->mapbox) (3.3)\n",
      "Requirement already satisfied: certifi>=2017.4.17 in /Users/shakilrafi/opt/anaconda3/envs/ASRI2022/lib/python3.9/site-packages (from requests->mapbox) (2022.5.18.1)\n",
      "Installing collected packages: msgpack, uritemplate, polyline, iso3166, cachecontrol, mapbox\n",
      "Successfully installed cachecontrol-0.12.11 iso3166-2.0.2 mapbox-0.18.0 msgpack-1.0.4 polyline-1.4.0 uritemplate-4.1.1\n"
     ]
    }
   ],
   "source": [
    "!pip install mapbox"
   ]
  },
  {
   "cell_type": "code",
   "execution_count": 2,
   "metadata": {},
   "outputs": [
    {
     "name": "stdout",
     "output_type": "stream",
     "text": [
      "Collecting prettymaps\n",
      "  Downloading prettymaps-0.1.3-py3-none-any.whl (22 kB)\n",
      "Collecting osmnx==1.0.1\n",
      "  Downloading osmnx-1.0.1-py2.py3-none-any.whl (87 kB)\n",
      "\u001b[K     |████████████████████████████████| 87 kB 3.9 MB/s eta 0:00:011\n",
      "\u001b[?25hCollecting tabulate==0.8.9\n",
      "  Downloading tabulate-0.8.9-py3-none-any.whl (25 kB)\n",
      "Requirement already satisfied: numpy>=1.19 in /Users/shakilrafi/opt/anaconda3/envs/ASRI2022/lib/python3.9/site-packages (from osmnx==1.0.1->prettymaps) (1.22.3)\n",
      "Requirement already satisfied: pandas>=1.1 in /Users/shakilrafi/opt/anaconda3/envs/ASRI2022/lib/python3.9/site-packages (from osmnx==1.0.1->prettymaps) (1.4.2)\n",
      "Requirement already satisfied: pyproj>=2.6 in /Users/shakilrafi/opt/anaconda3/envs/ASRI2022/lib/python3.9/site-packages (from osmnx==1.0.1->prettymaps) (3.1.0)\n",
      "Requirement already satisfied: matplotlib>=3.3 in /Users/shakilrafi/opt/anaconda3/envs/ASRI2022/lib/python3.9/site-packages (from osmnx==1.0.1->prettymaps) (3.5.1)\n",
      "Requirement already satisfied: requests>=2.25 in /Users/shakilrafi/opt/anaconda3/envs/ASRI2022/lib/python3.9/site-packages (from osmnx==1.0.1->prettymaps) (2.27.1)\n",
      "Requirement already satisfied: Shapely>=1.7 in /Users/shakilrafi/opt/anaconda3/envs/ASRI2022/lib/python3.9/site-packages (from osmnx==1.0.1->prettymaps) (1.7.1)\n",
      "Requirement already satisfied: Rtree>=0.9 in /Users/shakilrafi/opt/anaconda3/envs/ASRI2022/lib/python3.9/site-packages (from osmnx==1.0.1->prettymaps) (0.9.7)\n",
      "Requirement already satisfied: geopandas>=0.8 in /Users/shakilrafi/opt/anaconda3/envs/ASRI2022/lib/python3.9/site-packages (from osmnx==1.0.1->prettymaps) (0.9.0)\n",
      "Requirement already satisfied: networkx>=2.5 in /Users/shakilrafi/opt/anaconda3/envs/ASRI2022/lib/python3.9/site-packages (from osmnx==1.0.1->prettymaps) (2.7.1)\n",
      "Collecting descartes>=1.1\n",
      "  Downloading descartes-1.1.0-py3-none-any.whl (5.8 kB)\n",
      "Requirement already satisfied: fiona>=1.8 in /Users/shakilrafi/opt/anaconda3/envs/ASRI2022/lib/python3.9/site-packages (from geopandas>=0.8->osmnx==1.0.1->prettymaps) (1.8.13.post1)\n",
      "Requirement already satisfied: attrs>=17 in /Users/shakilrafi/opt/anaconda3/envs/ASRI2022/lib/python3.9/site-packages (from fiona>=1.8->geopandas>=0.8->osmnx==1.0.1->prettymaps) (21.4.0)\n",
      "Requirement already satisfied: click<8,>=4.0 in /Users/shakilrafi/opt/anaconda3/envs/ASRI2022/lib/python3.9/site-packages (from fiona>=1.8->geopandas>=0.8->osmnx==1.0.1->prettymaps) (7.1.2)\n",
      "Requirement already satisfied: cligj>=0.5 in /Users/shakilrafi/opt/anaconda3/envs/ASRI2022/lib/python3.9/site-packages (from fiona>=1.8->geopandas>=0.8->osmnx==1.0.1->prettymaps) (0.7.2)\n",
      "Requirement already satisfied: click-plugins>=1.0 in /Users/shakilrafi/opt/anaconda3/envs/ASRI2022/lib/python3.9/site-packages (from fiona>=1.8->geopandas>=0.8->osmnx==1.0.1->prettymaps) (1.1.1)\n",
      "Requirement already satisfied: six>=1.7 in /Users/shakilrafi/opt/anaconda3/envs/ASRI2022/lib/python3.9/site-packages (from fiona>=1.8->geopandas>=0.8->osmnx==1.0.1->prettymaps) (1.16.0)\n",
      "Requirement already satisfied: munch in /Users/shakilrafi/opt/anaconda3/envs/ASRI2022/lib/python3.9/site-packages (from fiona>=1.8->geopandas>=0.8->osmnx==1.0.1->prettymaps) (2.5.0)\n",
      "Requirement already satisfied: pillow>=6.2.0 in /Users/shakilrafi/opt/anaconda3/envs/ASRI2022/lib/python3.9/site-packages (from matplotlib>=3.3->osmnx==1.0.1->prettymaps) (9.0.1)\n",
      "Requirement already satisfied: packaging>=20.0 in /Users/shakilrafi/opt/anaconda3/envs/ASRI2022/lib/python3.9/site-packages (from matplotlib>=3.3->osmnx==1.0.1->prettymaps) (21.3)\n",
      "Requirement already satisfied: pyparsing>=2.2.1 in /Users/shakilrafi/opt/anaconda3/envs/ASRI2022/lib/python3.9/site-packages (from matplotlib>=3.3->osmnx==1.0.1->prettymaps) (3.0.4)\n",
      "Requirement already satisfied: python-dateutil>=2.7 in /Users/shakilrafi/opt/anaconda3/envs/ASRI2022/lib/python3.9/site-packages (from matplotlib>=3.3->osmnx==1.0.1->prettymaps) (2.8.2)\n",
      "Requirement already satisfied: kiwisolver>=1.0.1 in /Users/shakilrafi/opt/anaconda3/envs/ASRI2022/lib/python3.9/site-packages (from matplotlib>=3.3->osmnx==1.0.1->prettymaps) (1.4.2)\n",
      "Requirement already satisfied: fonttools>=4.22.0 in /Users/shakilrafi/opt/anaconda3/envs/ASRI2022/lib/python3.9/site-packages (from matplotlib>=3.3->osmnx==1.0.1->prettymaps) (4.25.0)\n",
      "Requirement already satisfied: cycler>=0.10 in /Users/shakilrafi/opt/anaconda3/envs/ASRI2022/lib/python3.9/site-packages (from matplotlib>=3.3->osmnx==1.0.1->prettymaps) (0.11.0)\n",
      "Requirement already satisfied: pytz>=2020.1 in /Users/shakilrafi/opt/anaconda3/envs/ASRI2022/lib/python3.9/site-packages (from pandas>=1.1->osmnx==1.0.1->prettymaps) (2021.3)\n",
      "Requirement already satisfied: certifi in /Users/shakilrafi/opt/anaconda3/envs/ASRI2022/lib/python3.9/site-packages (from pyproj>=2.6->osmnx==1.0.1->prettymaps) (2022.5.18.1)\n",
      "Requirement already satisfied: urllib3<1.27,>=1.21.1 in /Users/shakilrafi/opt/anaconda3/envs/ASRI2022/lib/python3.9/site-packages (from requests>=2.25->osmnx==1.0.1->prettymaps) (1.26.9)\n",
      "Requirement already satisfied: idna<4,>=2.5 in /Users/shakilrafi/opt/anaconda3/envs/ASRI2022/lib/python3.9/site-packages (from requests>=2.25->osmnx==1.0.1->prettymaps) (3.3)\n",
      "Requirement already satisfied: charset-normalizer~=2.0.0 in /Users/shakilrafi/opt/anaconda3/envs/ASRI2022/lib/python3.9/site-packages (from requests>=2.25->osmnx==1.0.1->prettymaps) (2.0.12)\n",
      "Installing collected packages: descartes, tabulate, osmnx, prettymaps\n",
      "Successfully installed descartes-1.1.0 osmnx-1.0.1 prettymaps-0.1.3 tabulate-0.8.9\n"
     ]
    }
   ],
   "source": [
    "!pip install prettymaps\n",
    "\n",
    "\n"
   ]
  },
  {
   "cell_type": "code",
   "execution_count": null,
   "metadata": {},
   "outputs": [],
   "source": []
  }
 ],
 "metadata": {
  "kernelspec": {
   "display_name": "Python 3.9.12 ('ASRI2022')",
   "language": "python",
   "name": "python3"
  },
  "language_info": {
   "codemirror_mode": {
    "name": "ipython",
    "version": 3
   },
   "file_extension": ".py",
   "mimetype": "text/x-python",
   "name": "python",
   "nbconvert_exporter": "python",
   "pygments_lexer": "ipython3",
   "version": "3.9.12"
  },
  "orig_nbformat": 4,
  "vscode": {
   "interpreter": {
    "hash": "509e9c51dd1b0218304d2601fe44b24e66e5a648207477a81efd7d013b00bead"
   }
  }
 },
 "nbformat": 4,
 "nbformat_minor": 2
}
